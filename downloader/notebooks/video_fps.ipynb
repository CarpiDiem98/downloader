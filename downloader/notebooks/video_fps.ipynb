{
 "cells": [
  {
   "cell_type": "code",
   "execution_count": 30,
   "metadata": {},
   "outputs": [],
   "source": [
    "import ffmpeg\n",
    "import youtube_dl\n",
    "import pytube\n",
    "\n",
    "output_url = \"../../output/\""
   ]
  },
  {
   "cell_type": "code",
   "execution_count": 3,
   "metadata": {},
   "outputs": [],
   "source": [
    "video_url = \"https://www.youtube.com/watch?v=uk6S6j6dJTc\""
   ]
  },
  {
   "cell_type": "markdown",
   "metadata": {},
   "source": [
    "# ffmpeg\n"
   ]
  },
  {
   "cell_type": "code",
   "execution_count": 54,
   "metadata": {},
   "outputs": [
    {
     "name": "stdout",
     "output_type": "stream",
     "text": [
      "ffmpeg version 6.1-5 Copyright (c) 2000-2023 the FFmpeg developers\n",
      "  built with gcc 13 (Debian 13.2.0-7)\n",
      "  configuration: --prefix=/usr --extra-version=5 --toolchain=hardened --libdir=/usr/lib/x86_64-linux-gnu --incdir=/usr/include/x86_64-linux-gnu --arch=amd64 --enable-gpl --disable-stripping --enable-gnutls --enable-ladspa --enable-libaom --enable-libass --enable-libbluray --enable-libbs2b --enable-libcaca --enable-libcdio --enable-libcodec2 --enable-libdav1d --enable-libflite --enable-libfontconfig --enable-libfreetype --enable-libharfbuzz --enable-libfribidi --enable-libglslang --enable-libgme --enable-libgsm --enable-libjack --enable-libmp3lame --enable-libmysofa --enable-libopenjpeg --enable-libopenmpt --enable-libopus --enable-libpulse --enable-librabbitmq --enable-librist --enable-librubberband --enable-libshine --enable-libsnappy --enable-libsoxr --enable-libspeex --enable-libsrt --enable-libssh --enable-libtheora --enable-libtwolame --enable-libvidstab --enable-libvorbis --enable-libvpx --enable-libwebp --enable-libx265 --enable-libxml2 --enable-libxvid --enable-libzimg --enable-libzmq --enable-libzvbi --enable-lv2 --enable-omx --enable-openal --enable-opencl --enable-opengl --enable-sdl2 --disable-sndio --enable-libjxl --enable-pocketsphinx --enable-librsvg --enable-libvpl --disable-libmfx --enable-libdc1394 --enable-libdrm --enable-libiec61883 --enable-chromaprint --enable-frei0r --enable-libsvtav1 --enable-libx264 --enable-libplacebo --enable-librav1e --enable-shared\n",
      "  libavutil      58. 29.100 / 58. 29.100\n",
      "  libavcodec     60. 31.102 / 60. 31.102\n",
      "  libavformat    60. 16.100 / 60. 16.100\n",
      "  libavdevice    60.  3.100 / 60.  3.100\n",
      "  libavfilter     9. 12.100 /  9. 12.100\n",
      "  libswscale      7.  5.100 /  7.  5.100\n",
      "  libswresample   4. 12.100 /  4. 12.100\n",
      "  libpostproc    57.  3.100 / 57.  3.100\n",
      "[in#0 @ 0x5607b9e44bc0] Error opening input: Invalid data found when processing input\n",
      "Error opening input file https://www.youtube.com/watch?v=uk6S6j6dJTc.\n",
      "Error opening input files: Invalid data found when processing input\n",
      "\n"
     ]
    }
   ],
   "source": [
    "try:\n",
    "    ffmpeg.input(video_url).output(\n",
    "        \"out.mp4\", vcodec=\"copy\", acodec=\"copy\"\n",
    "    ).overwrite_output().run(capture_stderr=True)\n",
    "except ffmpeg.Error as e:\n",
    "    print(e.stderr.decode())"
   ]
  },
  {
   "cell_type": "markdown",
   "metadata": {},
   "source": [
    "# yt-dlp\n"
   ]
  },
  {
   "cell_type": "code",
   "execution_count": 35,
   "metadata": {},
   "outputs": [
    {
     "name": "stderr",
     "output_type": "stream",
     "text": [
      "[debug] Encodings: locale UTF-8, fs utf-8, pref UTF-8, out UTF-8 (No ANSI), error UTF-8 (No ANSI), screen UTF-8 (No ANSI)\n",
      "[debug] yt-dlp version stable@2023.11.16 from yt-dlp/yt-dlp [24f827875] (pip) API\n",
      "[debug] params: {'format': 'bestvideo+bestaudio/best', 'verbose': True, 'outtmpl': '../../output/%(title)s.%(ext)s', 'postprocessors': [{'key': 'FFmpegVideoConvertor', 'preferedformat': 'mp4'}], 'compat_opts': set(), 'http_headers': {'User-Agent': 'Mozilla/5.0 (Windows NT 10.0; Win64; x64) AppleWebKit/537.36 (KHTML, like Gecko) Chrome/91.0.4472.19 Safari/537.36', 'Accept': 'text/html,application/xhtml+xml,application/xml;q=0.9,*/*;q=0.8', 'Accept-Language': 'en-us,en;q=0.5', 'Sec-Fetch-Mode': 'navigate'}}\n",
      "[debug] Python 3.11.7 (CPython x86_64 64bit) - Linux-6.5.0-5-amd64-x86_64-with-glibc2.37 (OpenSSL 3.1.4 24 Oct 2023, glibc 2.37)\n",
      "[debug] exe versions: ffmpeg 6.1-5 (setts), ffprobe 6.1-5\n",
      "[debug] Optional libraries: Cryptodome-3.19.0, brotli-1.1.0, certifi-2023.11.17, mutagen-1.47.0, requests-2.31.0, sqlite3-3.44.2, urllib3-2.1.0, websockets-12.0\n",
      "[debug] Proxy map: {}\n",
      "[debug] Request Handlers: urllib, requests\n",
      "[debug] Loaded 1901 extractors\n"
     ]
    },
    {
     "name": "stdout",
     "output_type": "stream",
     "text": [
      "[youtube] Extracting URL: https://www.youtube.com/watch?v=BZP1rYjoBgI\n",
      "[youtube] BZP1rYjoBgI: Downloading webpage\n",
      "[youtube] BZP1rYjoBgI: Downloading ios player API JSON\n",
      "[youtube] BZP1rYjoBgI: Downloading android player API JSON\n",
      "[youtube] BZP1rYjoBgI: Downloading m3u8 information\n"
     ]
    },
    {
     "name": "stderr",
     "output_type": "stream",
     "text": [
      "[debug] Sort order given by extractor: quality, res, fps, hdr:12, source, vcodec:vp9.2, channels, acodec, lang, proto\n",
      "[debug] Formats sorted by: hasvid, ie_pref, quality, res, fps, hdr:12(7), source, vcodec:vp9.2(10), channels, acodec, lang, proto, size, br, asr, vext, aext, hasaud, id\n"
     ]
    },
    {
     "name": "stdout",
     "output_type": "stream",
     "text": [
      "[info] BZP1rYjoBgI: Downloading 1 format(s): 244+251\n"
     ]
    },
    {
     "name": "stderr",
     "output_type": "stream",
     "text": [
      "[debug] Invoking http downloader on \"https://rr5---sn-45nufxc-4jvl.googlevideo.com/videoplayback?expire=1703196114&ei=cWGEZYWCO4Pt1gK88pTACw&ip=2001%3Ab07%3Aadd%3A580c%3A19f7%3A37c1%3Aa637%3Af6f1&id=o-AJEkuyTC5NN9n5ADwArurJpsRDGKBnyaUp3yKPkvk6BA&itag=244&source=youtube&requiressl=yes&xpc=EgVo2aDSNQ%3D%3D&mh=c1&mm=31%2C26&mn=sn-45nufxc-4jvl%2Csn-hgn7rnee&ms=au%2Conr&mv=m&mvi=5&pcm2cms=yes&pl=49&initcwndbps=1513750&vprv=1&svpuc=1&mime=video%2Fwebm&gir=yes&clen=1728729&dur=30.029&lmt=1655507710863083&mt=1703174222&fvip=2&keepalive=yes&fexp=24007246&c=IOS&txp=4437434&sparams=expire%2Cei%2Cip%2Cid%2Citag%2Csource%2Crequiressl%2Cxpc%2Cvprv%2Csvpuc%2Cmime%2Cgir%2Cclen%2Cdur%2Clmt&sig=AJfQdSswRQIhAIqKjlyGl2jBlIe9DKEiOVGASrmxGKnLK-fefvVRVJLHAiASoQ8FX16Aeb5gY2gjk4qA7jjgJyNuExnNDG_l6wM35g%3D%3D&lsparams=mh%2Cmm%2Cmn%2Cms%2Cmv%2Cmvi%2Cpcm2cms%2Cpl%2Cinitcwndbps&lsig=AAO5W4owRQIhAPXPc3AerHtE6f046C-Dd5OYQzMyYIaDCql2rZ079QitAiAMK9QbXrvz10nw2hbUDSAkKV3Tw4y5eqpXsS2RXRpU7Q%3D%3D\"\n"
     ]
    },
    {
     "name": "stdout",
     "output_type": "stream",
     "text": [
      "[download] Destination: ../../output/The 30-Second Video.f244.webm\n",
      "[download] 100% of    1.65MiB in 00:00:00 at 8.43MiB/s   \n"
     ]
    },
    {
     "name": "stderr",
     "output_type": "stream",
     "text": [
      "[debug] Invoking http downloader on \"https://rr5---sn-45nufxc-4jvl.googlevideo.com/videoplayback?expire=1703196114&ei=cmGEZZCXCv2_p-oP6Oi2gAg&ip=2001%3Ab07%3Aadd%3A580c%3A19f7%3A37c1%3Aa637%3Af6f1&id=o-AFOCXFEF7is3wiafdfD4dwMkYbY6GkJlA0fWYZXrd3lw&itag=251&source=youtube&requiressl=yes&xpc=EgVo2aDSNQ%3D%3D&mh=c1&mm=31%2C26&mn=sn-45nufxc-4jvl%2Csn-hgn7yn76&ms=au%2Conr&mv=m&mvi=5&pl=49&initcwndbps=1513750&spc=UWF9fxDP2KZ22HlhNa81uryMTiarGp0&vprv=1&svpuc=1&mime=audio%2Fwebm&gir=yes&clen=528836&dur=30.081&lmt=1655507339257068&mt=1703174222&fvip=3&keepalive=yes&fexp=24007246&c=ANDROID&txp=4432434&sparams=expire%2Cei%2Cip%2Cid%2Citag%2Csource%2Crequiressl%2Cxpc%2Cspc%2Cvprv%2Csvpuc%2Cmime%2Cgir%2Cclen%2Cdur%2Clmt&sig=AJfQdSswRAIgCoSZD4N9aRONMHUh35wmC8jm2b_-ftCgcg3PcFs306sCIDDLSv2yf0ZUaLW9bd2b-pXtcJuimpVu3FhiWgYksBro&lsparams=mh%2Cmm%2Cmn%2Cms%2Cmv%2Cmvi%2Cpl%2Cinitcwndbps&lsig=AAO5W4owRQIhAK73U5uQTOUbLuSkCYUnfNiTvd5ixmc2FxmaoHpAxTOlAiBNMAhAMQGwuVpCw8t_Jvw7H14tt8bbhp5PeAdkZeRWBw%3D%3D\"\n"
     ]
    },
    {
     "name": "stdout",
     "output_type": "stream",
     "text": [
      "[download] Destination: ../../output/The 30-Second Video.f251.webm\n",
      "[download] 100% of  516.44KiB in 00:00:00 at 9.77MiB/s   \n",
      "[Merger] Merging formats into \"../../output/The 30-Second Video.webm\"\n"
     ]
    },
    {
     "name": "stderr",
     "output_type": "stream",
     "text": [
      "[debug] ffmpeg command line: ffmpeg -y -loglevel repeat+info -i 'file:../../output/The 30-Second Video.f244.webm' -i 'file:../../output/The 30-Second Video.f251.webm' -c copy -map 0:v:0 -map 1:a:0 -movflags +faststart 'file:../../output/The 30-Second Video.temp.webm'\n"
     ]
    },
    {
     "name": "stdout",
     "output_type": "stream",
     "text": [
      "Deleting original file ../../output/The 30-Second Video.f251.webm (pass -k to keep)\n",
      "Deleting original file ../../output/The 30-Second Video.f244.webm (pass -k to keep)\n",
      "[VideoConvertor] Converting video from webm to mp4; Destination: ../../output/The 30-Second Video.mp4\n"
     ]
    },
    {
     "name": "stderr",
     "output_type": "stream",
     "text": [
      "[debug] ffmpeg command line: ffmpeg -y -loglevel repeat+info -i 'file:../../output/The 30-Second Video.webm' -map 0 -dn -ignore_unknown -movflags +faststart 'file:../../output/The 30-Second Video.mp4'\n"
     ]
    },
    {
     "name": "stdout",
     "output_type": "stream",
     "text": [
      "Deleting original file ../../output/The 30-Second Video.webm (pass -k to keep)\n"
     ]
    }
   ],
   "source": [
    "import yt_dlp\n",
    "\n",
    "\n",
    "ydl_opts = {\n",
    "    \"format\": \"bestvideo+bestaudio/best\",\n",
    "    \"verbose\": True,\n",
    "    \"outtmpl\": output_url + \"%(title)s.%(ext)s\",\n",
    "    \"postprocessors\": [\n",
    "        {\n",
    "            \"key\": \"FFmpegExtractAudio\",\n",
    "            \"preferredcodec\": \"mp3\",\n",
    "            \"preferredquality\": \"192\",\n",
    "        },\n",
    "    ],\n",
    "}\n",
    "with yt_dlp.YoutubeDL(ydl_opts) as ydl:\n",
    "    ydl.download([\"https://www.youtube.com/watch?v=BZP1rYjoBgI\"])"
   ]
  },
  {
   "cell_type": "code",
   "execution_count": 54,
   "metadata": {},
   "outputs": [
    {
     "data": {
      "text/plain": [
       "{'default': '../../output/%(title)s.%(ext)s',\n",
       " 'chapter': '%(title)s - %(section_number)03d %(section_title)s [%(id)s].%(ext)s'}"
      ]
     },
     "execution_count": 54,
     "metadata": {},
     "output_type": "execute_result"
    }
   ],
   "source": [
    "ydl_opts['outtmpl']"
   ]
  },
  {
   "cell_type": "code",
   "execution_count": 53,
   "metadata": {},
   "outputs": [
    {
     "name": "stderr",
     "output_type": "stream",
     "text": [
      "[debug] Encodings: locale UTF-8, fs utf-8, pref UTF-8, out UTF-8 (No ANSI), error UTF-8 (No ANSI), screen UTF-8 (No ANSI)\n",
      "[debug] yt-dlp version stable@2023.11.16 from yt-dlp/yt-dlp [24f827875] (pip) API\n",
      "[debug] params: {'format': 'bestvideo+bestaudio/best', 'verbose': True, 'outtmpl': '../../output/%(title)s.%(ext)s', 'postprocessors': [{'key': 'FFmpegVideoConvertor', 'preferedformat': 'mp4'}], 'compat_opts': set(), 'http_headers': {'User-Agent': 'Mozilla/5.0 (Windows NT 10.0; Win64; x64) AppleWebKit/537.36 (KHTML, like Gecko) Chrome/91.0.4472.19 Safari/537.36', 'Accept': 'text/html,application/xhtml+xml,application/xml;q=0.9,*/*;q=0.8', 'Accept-Language': 'en-us,en;q=0.5', 'Sec-Fetch-Mode': 'navigate'}}\n",
      "[debug] Python 3.11.7 (CPython x86_64 64bit) - Linux-6.5.0-5-amd64-x86_64-with-glibc2.37 (OpenSSL 3.1.4 24 Oct 2023, glibc 2.37)\n",
      "[debug] exe versions: ffmpeg 6.1-5 (setts), ffprobe 6.1-5\n",
      "[debug] Optional libraries: Cryptodome-3.19.0, brotli-1.1.0, certifi-2023.11.17, mutagen-1.47.0, requests-2.31.0, sqlite3-3.44.2, urllib3-2.1.0, websockets-12.0\n",
      "[debug] Proxy map: {}\n",
      "[debug] Request Handlers: urllib, requests\n",
      "[debug] Loaded 1901 extractors\n"
     ]
    },
    {
     "name": "stdout",
     "output_type": "stream",
     "text": [
      "[youtube] Extracting URL: https://www.youtube.com/watch?v=BZP1rYjoBgI\n",
      "[youtube] BZP1rYjoBgI: Downloading webpage\n",
      "[youtube] BZP1rYjoBgI: Downloading ios player API JSON\n",
      "[youtube] BZP1rYjoBgI: Downloading android player API JSON\n",
      "[youtube] BZP1rYjoBgI: Downloading m3u8 information\n"
     ]
    },
    {
     "name": "stderr",
     "output_type": "stream",
     "text": [
      "[debug] Sort order given by extractor: quality, res, fps, hdr:12, source, vcodec:vp9.2, channels, acodec, lang, proto\n",
      "[debug] Formats sorted by: hasvid, ie_pref, quality, res, fps, hdr:12(7), source, vcodec:vp9.2(10), channels, acodec, lang, proto, size, br, asr, vext, aext, hasaud, id\n"
     ]
    },
    {
     "name": "stdout",
     "output_type": "stream",
     "text": [
      "[info] BZP1rYjoBgI: Downloading 1 format(s): 244+251\n"
     ]
    },
    {
     "name": "stderr",
     "output_type": "stream",
     "text": [
      "[debug] Invoking http downloader on \"https://rr5---sn-45nufxc-4jvl.googlevideo.com/videoplayback?expire=1703197053&ei=HWWEZaD3EI7Ii9oPtMmr-As&ip=2001%3Ab07%3Aadd%3A580c%3A19f7%3A37c1%3Aa637%3Af6f1&id=o-AC4pOO6XNBWTAbR06ub2Bvcr4zJ9oaXe17FmUHuvZE0_&itag=244&source=youtube&requiressl=yes&xpc=EgVo2aDSNQ%3D%3D&mh=c1&mm=31%2C26&mn=sn-45nufxc-4jvl%2Csn-hgn7rnee&ms=au%2Conr&mv=m&mvi=5&pl=49&initcwndbps=1510000&vprv=1&svpuc=1&mime=video%2Fwebm&gir=yes&clen=1728729&dur=30.029&lmt=1655507710863083&mt=1703175184&fvip=2&keepalive=yes&fexp=24007246&c=IOS&txp=4437434&sparams=expire%2Cei%2Cip%2Cid%2Citag%2Csource%2Crequiressl%2Cxpc%2Cvprv%2Csvpuc%2Cmime%2Cgir%2Cclen%2Cdur%2Clmt&sig=AJfQdSswRAIgb3ImeMTiZ0XPp-HV9WrXABVfLhb12Ou0M3nC-uE5OaICIC6L6NDk0ldj65Sy1ZsoZKYyJ9e3v2fKNpXJ-WCmweHJ&lsparams=mh%2Cmm%2Cmn%2Cms%2Cmv%2Cmvi%2Cpl%2Cinitcwndbps&lsig=AAO5W4owRgIhALdoqwmyAOXCWAiWNXciHIdcWi9U_3nI9bkKv83DUpLQAiEAjCh0HgFtFhQgm-bmv39cEI_-RVTfxhiyWH_nvtYbhes%3D\"\n"
     ]
    },
    {
     "name": "stdout",
     "output_type": "stream",
     "text": [
      "[download] Destination: ../../output/The 30-Second Video.f244.webm\n",
      "[download] 100% of    1.65MiB in 00:00:00 at 8.62MiB/s   \n"
     ]
    },
    {
     "name": "stderr",
     "output_type": "stream",
     "text": [
      "[debug] Invoking http downloader on \"https://rr5---sn-45nufxc-4jvl.googlevideo.com/videoplayback?expire=1703197053&ei=HWWEZe3XGL3Ri9oPqOuwcA&ip=2001%3Ab07%3Aadd%3A580c%3A19f7%3A37c1%3Aa637%3Af6f1&id=o-AMuQ3kx_WrsZlocCwVW_KMUbg-8wddV_-gPfP4zErLQP&itag=251&source=youtube&requiressl=yes&xpc=EgVo2aDSNQ%3D%3D&mh=c1&mm=31%2C26&mn=sn-45nufxc-4jvl%2Csn-hgn7rnee&ms=au%2Conr&mv=m&mvi=5&pl=49&pcm2=yes&initcwndbps=1510000&spc=UWF9f90C4FO53ZYAM2mqezkLbRoEDZk&vprv=1&svpuc=1&mime=audio%2Fwebm&gir=yes&clen=528836&dur=30.081&lmt=1655507339257068&mt=1703175184&fvip=2&keepalive=yes&fexp=24007246&c=ANDROID&txp=4432434&sparams=expire%2Cei%2Cip%2Cid%2Citag%2Csource%2Crequiressl%2Cxpc%2Cpcm2%2Cspc%2Cvprv%2Csvpuc%2Cmime%2Cgir%2Cclen%2Cdur%2Clmt&sig=AJfQdSswRQIgRdsx3dNDYnYKYPbog8URIAvwpFttI_P57GBT7Se8qVUCIQCPWSlgFpeDnm3P0xMzSArJGXD0oRUq_sWis58-39xW-A%3D%3D&lsparams=mh%2Cmm%2Cmn%2Cms%2Cmv%2Cmvi%2Cpl%2Cinitcwndbps&lsig=AAO5W4owRgIhALacr1kVWZddXskGLtcavkmykYu09YdzHmelhapIYdV7AiEAodyZVeHqJNkItm9J7lW2VlVvOhyNC07dMuvErFHosKo%3D\"\n"
     ]
    },
    {
     "name": "stdout",
     "output_type": "stream",
     "text": [
      "[download] Destination: ../../output/The 30-Second Video.f251.webm\n",
      "[download] 100% of  516.44KiB in 00:00:00 at 5.92MiB/s   \n",
      "[Merger] Merging formats into \"../../output/The 30-Second Video.webm\"\n"
     ]
    },
    {
     "name": "stderr",
     "output_type": "stream",
     "text": [
      "[debug] ffmpeg command line: ffmpeg -y -loglevel repeat+info -i 'file:../../output/The 30-Second Video.f244.webm' -i 'file:../../output/The 30-Second Video.f251.webm' -c copy -map 0:v:0 -map 1:a:0 -movflags +faststart 'file:../../output/The 30-Second Video.temp.webm'\n"
     ]
    },
    {
     "name": "stdout",
     "output_type": "stream",
     "text": [
      "Deleting original file ../../output/The 30-Second Video.f251.webm (pass -k to keep)\n",
      "Deleting original file ../../output/The 30-Second Video.f244.webm (pass -k to keep)\n",
      "[VideoConvertor] Converting video from webm to mp4; Destination: ../../output/The 30-Second Video.mp4\n"
     ]
    },
    {
     "name": "stderr",
     "output_type": "stream",
     "text": [
      "[debug] ffmpeg command line: ffmpeg -y -loglevel repeat+info -i 'file:../../output/The 30-Second Video.webm' -map 0 -dn -ignore_unknown -movflags +faststart 'file:../../output/The 30-Second Video.mp4'\n"
     ]
    },
    {
     "name": "stdout",
     "output_type": "stream",
     "text": [
      "Deleting original file ../../output/The 30-Second Video.webm (pass -k to keep)\n",
      "[youtube] Extracting URL: https://www.youtube.com/watch?v=BZP1rYjoBgI\n",
      "[youtube] BZP1rYjoBgI: Downloading webpage\n",
      "[youtube] BZP1rYjoBgI: Downloading ios player API JSON\n",
      "[youtube] BZP1rYjoBgI: Downloading android player API JSON\n",
      "[youtube] BZP1rYjoBgI: Downloading m3u8 information\n"
     ]
    },
    {
     "name": "stderr",
     "output_type": "stream",
     "text": [
      "[debug] Sort order given by extractor: quality, res, fps, hdr:12, source, vcodec:vp9.2, channels, acodec, lang, proto\n",
      "[debug] Formats sorted by: hasvid, ie_pref, quality, res, fps, hdr:12(7), source, vcodec:vp9.2(10), channels, acodec, lang, proto, size, br, asr, vext, aext, hasaud, id\n"
     ]
    },
    {
     "name": "stdout",
     "output_type": "stream",
     "text": [
      "[info] BZP1rYjoBgI: Downloading 1 format(s): 244+251\n"
     ]
    },
    {
     "name": "stderr",
     "output_type": "stream",
     "text": [
      "[debug] Invoking http downloader on \"https://rr5---sn-45nufxc-4jvl.googlevideo.com/videoplayback?expire=1703197059&ei=I2WEZa2pIoHPi9oP9MefyA8&ip=2001%3Ab07%3Aadd%3A580c%3A19f7%3A37c1%3Aa637%3Af6f1&id=o-AG9qvIsM7cFIDWKE_c3AfY2DSgaDq8V17iE7Z4vs0eNt&itag=244&source=youtube&requiressl=yes&xpc=EgVo2aDSNQ%3D%3D&mh=c1&mm=31%2C26&mn=sn-45nufxc-4jvl%2Csn-hgn7yn76&ms=au%2Conr&mv=m&mvi=5&pl=49&initcwndbps=1510000&vprv=1&svpuc=1&mime=video%2Fwebm&gir=yes&clen=1728729&dur=30.029&lmt=1655507710863083&mt=1703175184&fvip=3&keepalive=yes&fexp=24007246&c=IOS&txp=4437434&sparams=expire%2Cei%2Cip%2Cid%2Citag%2Csource%2Crequiressl%2Cxpc%2Cvprv%2Csvpuc%2Cmime%2Cgir%2Cclen%2Cdur%2Clmt&sig=AJfQdSswRAIgMMyFTCJtKgXNlXK65qLLn67KHqrT5V_LV41OxBscaMQCIEk3gTp2PK5dBGZxEp_RwPwaBrXe_wBN5CPNvKSnr9nc&lsparams=mh%2Cmm%2Cmn%2Cms%2Cmv%2Cmvi%2Cpl%2Cinitcwndbps&lsig=AAO5W4owRgIhAK5FBOxE5Rc4EsFXpEH8B7MjUOsH5rlXc6kg_ntv7SnPAiEAu5HIcOBIuRnWMR68nSSGWE2DJj6wqnD7Fp31sR-eKpQ%3D\"\n"
     ]
    },
    {
     "name": "stdout",
     "output_type": "stream",
     "text": [
      "[download] Destination: ../../output/The 30-Second Video.f244.webm\n",
      "[download] 100% of    1.65MiB in 00:00:00 at 19.07MiB/s  \n"
     ]
    },
    {
     "name": "stderr",
     "output_type": "stream",
     "text": [
      "[debug] Invoking http downloader on \"https://rr5---sn-45nufxc-4jvl.googlevideo.com/videoplayback?expire=1703197059&ei=I2WEZfWaM-vPi9oP6JCNiAw&ip=2001%3Ab07%3Aadd%3A580c%3A19f7%3A37c1%3Aa637%3Af6f1&id=o-AO4JoCVD1NM0CbWIVBrOy8pQQ2xd9vOeTSpKlmUjN6pJ&itag=251&source=youtube&requiressl=yes&xpc=EgVo2aDSNQ%3D%3D&mh=c1&mm=31%2C26&mn=sn-45nufxc-4jvl%2Csn-hgn7rnee&ms=au%2Conr&mv=m&mvi=5&pl=49&initcwndbps=1510000&spc=UWF9f2gpORING5-ZVXdfeH5-_I6FtpU&vprv=1&svpuc=1&mime=audio%2Fwebm&gir=yes&clen=528836&dur=30.081&lmt=1655507339257068&mt=1703175184&fvip=2&keepalive=yes&fexp=24007246&c=ANDROID&txp=4432434&sparams=expire%2Cei%2Cip%2Cid%2Citag%2Csource%2Crequiressl%2Cxpc%2Cspc%2Cvprv%2Csvpuc%2Cmime%2Cgir%2Cclen%2Cdur%2Clmt&sig=AJfQdSswRQIhAPZf_CjpsT2OwAXMtwhytDNVVyKLhJOUoOZmD7qYcdo6AiBgEcfZPTnwQXSAwwgR5kkhDFwTskmYWG-8IABWuVK9Ew%3D%3D&lsparams=mh%2Cmm%2Cmn%2Cms%2Cmv%2Cmvi%2Cpl%2Cinitcwndbps&lsig=AAO5W4owRQIgT_SMuSjKEfuDWaUKj9HS1WvssxZld4VUJ72OPo6ikGICIQDfcLiIYGdq-bJAprfjtp3kUVxSUMLHUTxtqc16GdfJ9A%3D%3D\"\n"
     ]
    },
    {
     "name": "stdout",
     "output_type": "stream",
     "text": [
      "[download] Destination: ../../output/The 30-Second Video.f251.webm\n",
      "[download] 100% of  516.44KiB in 00:00:00 at 4.76MiB/s     \n",
      "[Merger] Merging formats into \"../../output/The 30-Second Video.webm\"\n"
     ]
    },
    {
     "name": "stderr",
     "output_type": "stream",
     "text": [
      "[debug] ffmpeg command line: ffmpeg -y -loglevel repeat+info -i 'file:../../output/The 30-Second Video.f244.webm' -i 'file:../../output/The 30-Second Video.f251.webm' -c copy -map 0:v:0 -map 1:a:0 -movflags +faststart 'file:../../output/The 30-Second Video.temp.webm'\n"
     ]
    },
    {
     "name": "stdout",
     "output_type": "stream",
     "text": [
      "Deleting original file ../../output/The 30-Second Video.f251.webm (pass -k to keep)\n",
      "Deleting original file ../../output/The 30-Second Video.f244.webm (pass -k to keep)\n",
      "[VideoConvertor] Converting video from webm to mp4; Destination: ../../output/The 30-Second Video.mp4\n"
     ]
    },
    {
     "name": "stderr",
     "output_type": "stream",
     "text": [
      "[debug] ffmpeg command line: ffmpeg -y -loglevel repeat+info -i 'file:../../output/The 30-Second Video.webm' -map 0 -dn -ignore_unknown -movflags +faststart 'file:../../output/The 30-Second Video.mp4'\n"
     ]
    },
    {
     "name": "stdout",
     "output_type": "stream",
     "text": [
      "Deleting original file ../../output/The 30-Second Video.webm (pass -k to keep)\n",
      "The 30-Second Video\n"
     ]
    }
   ],
   "source": [
    "import yt_dlp\n",
    "\n",
    "\n",
    "ydl_opts = {\n",
    "    \"format\": \"bestvideo+bestaudio/best\",\n",
    "    \"verbose\": True,\n",
    "    \"outtmpl\": output_url + \"%(title)s.%(ext)s\",\n",
    "    \"postprocessors\": [\n",
    "        {\n",
    "            \"key\": \"FFmpegVideoConvertor\",\n",
    "            \"preferedformat\": \"mp4\",\n",
    "        }\n",
    "    ],\n",
    "}\n",
    "with yt_dlp.YoutubeDL(ydl_opts) as ydl:\n",
    "    info_dict = ydl.extract_info(\"https://www.youtube.com/watch?v=BZP1rYjoBgI\")\n",
    "    info_dict['title']\n",
    "    ydl.download([\"https://www.youtube.com/watch?v=BZP1rYjoBgI\"])\n",
    "    print(info_dict['title'])"
   ]
  },
  {
   "cell_type": "code",
   "execution_count": 63,
   "metadata": {},
   "outputs": [
    {
     "data": {
      "text/plain": [
       "'../../output/The_30_Second_Video'"
      ]
     },
     "execution_count": 63,
     "metadata": {},
     "output_type": "execute_result"
    }
   ],
   "source": [
    "import os\n",
    "\n",
    "os.path.join(output_url, info_dict[\"title\"].replace(\" \", \"_\").replace(\"-\", \"_\"))"
   ]
  },
  {
   "cell_type": "code",
   "execution_count": 60,
   "metadata": {},
   "outputs": [
    {
     "data": {
      "text/plain": [
       "{'format': 'bestvideo+bestaudio/best',\n",
       " 'verbose': True,\n",
       " 'outtmpl': {'default': '../../output/%(title)s.%(ext)s',\n",
       "  'chapter': '%(title)s - %(section_number)03d %(section_title)s [%(id)s].%(ext)s'},\n",
       " 'postprocessors': [{'key': 'FFmpegVideoConvertor', 'preferedformat': 'mp4'}],\n",
       " 'compat_opts': set(),\n",
       " 'http_headers': {'User-Agent': 'Mozilla/5.0 (Windows NT 10.0; Win64; x64) AppleWebKit/537.36 (KHTML, like Gecko) Chrome/91.0.4472.19 Safari/537.36', 'Accept': 'text/html,application/xhtml+xml,application/xml;q=0.9,*/*;q=0.8', 'Accept-Language': 'en-us,en;q=0.5', 'Sec-Fetch-Mode': 'navigate'},\n",
       " 'forceprint': {},\n",
       " 'print_to_file': {}}"
      ]
     },
     "execution_count": 60,
     "metadata": {},
     "output_type": "execute_result"
    }
   ],
   "source": [
    "ydl_opts"
   ]
  },
  {
   "cell_type": "code",
   "execution_count": 52,
   "metadata": {},
   "outputs": [
    {
     "name": "stderr",
     "output_type": "stream",
     "text": [
      "ffmpeg version 6.1-5 Copyright (c) 2000-2023 the FFmpeg developers\n",
      "  built with gcc 13 (Debian 13.2.0-7)\n",
      "  configuration: --prefix=/usr --extra-version=5 --toolchain=hardened --libdir=/usr/lib/x86_64-linux-gnu --incdir=/usr/include/x86_64-linux-gnu --arch=amd64 --enable-gpl --disable-stripping --enable-gnutls --enable-ladspa --enable-libaom --enable-libass --enable-libbluray --enable-libbs2b --enable-libcaca --enable-libcdio --enable-libcodec2 --enable-libdav1d --enable-libflite --enable-libfontconfig --enable-libfreetype --enable-libharfbuzz --enable-libfribidi --enable-libglslang --enable-libgme --enable-libgsm --enable-libjack --enable-libmp3lame --enable-libmysofa --enable-libopenjpeg --enable-libopenmpt --enable-libopus --enable-libpulse --enable-librabbitmq --enable-librist --enable-librubberband --enable-libshine --enable-libsnappy --enable-libsoxr --enable-libspeex --enable-libsrt --enable-libssh --enable-libtheora --enable-libtwolame --enable-libvidstab --enable-libvorbis --enable-libvpx --enable-libwebp --enable-libx265 --enable-libxml2 --enable-libxvid --enable-libzimg --enable-libzmq --enable-libzvbi --enable-lv2 --enable-omx --enable-openal --enable-opencl --enable-opengl --enable-sdl2 --disable-sndio --enable-libjxl --enable-pocketsphinx --enable-librsvg --enable-libvpl --disable-libmfx --enable-libdc1394 --enable-libdrm --enable-libiec61883 --enable-chromaprint --enable-frei0r --enable-libsvtav1 --enable-libx264 --enable-libplacebo --enable-librav1e --enable-shared\n",
      "  libavutil      58. 29.100 / 58. 29.100\n",
      "  libavcodec     60. 31.102 / 60. 31.102\n",
      "  libavformat    60. 16.100 / 60. 16.100\n",
      "  libavdevice    60.  3.100 / 60.  3.100\n",
      "  libavfilter     9. 12.100 /  9. 12.100\n",
      "  libswscale      7.  5.100 /  7.  5.100\n",
      "  libswresample   4. 12.100 /  4. 12.100\n",
      "  libpostproc    57.  3.100 / 57.  3.100\n",
      "Input #0, mov,mp4,m4a,3gp,3g2,mj2, from '/home/emanuele/Dottorato/DigitalHuman/downloader/output/The 30-Second Video.mp4':\n",
      "  Metadata:\n",
      "    major_brand     : isom\n",
      "    minor_version   : 512\n",
      "    compatible_brands: isomiso2avc1mp41\n",
      "    encoder         : Lavf60.16.100\n",
      "  Duration: 00:00:30.07, start: 0.000000, bitrate: 752 kb/s\n",
      "  Stream #0:0[0x1](eng): Video: h264 (High) (avc1 / 0x31637661), yuv420p(tv, bt709, progressive), 640x480 [SAR 1:1 DAR 4:3], 613 kb/s, 29.74 fps, 29.74 tbr, 29737 tbn (default)\n",
      "    Metadata:\n",
      "      handler_name    : VideoHandler\n",
      "      vendor_id       : [0][0][0][0]\n",
      "      encoder         : Lavc60.31.102 libx264\n",
      "  Stream #0:1[0x2](eng): Audio: aac (LC) (mp4a / 0x6134706D), 48000 Hz, stereo, fltp, 131 kb/s (default)\n",
      "    Metadata:\n",
      "      handler_name    : SoundHandler\n",
      "      vendor_id       : [0][0][0][0]\n",
      "Input #1, mp3, from '/home/emanuele/Dottorato/DigitalHuman/downloader/output/The 30-Second Video.mp3':\n",
      "  Metadata:\n",
      "    major_brand     : isom\n",
      "    minor_version   : 512\n",
      "    compatible_brands: isomiso2avc1mp41\n",
      "    encoder         : Lavf60.16.100\n",
      "  Duration: 00:00:30.10, start: 0.023021, bitrate: 192 kb/s\n",
      "  Stream #1:0: Audio: mp3, 48000 Hz, stereo, fltp, 192 kb/s\n",
      "    Metadata:\n",
      "      encoder         : Lavc60.31\n",
      "Stream mapping:\n",
      "  Stream #0:0 -> #0:0 (copy)\n",
      "  Stream #1:0 -> #0:1 (mp3 (mp3float) -> mp3 (libmp3lame))\n",
      "Press [q] to stop, [?] for help\n",
      "Output #0, mp4, to '/home/emanuele/Dottorato/DigitalHuman/downloader/output/output.mp4':\n",
      "  Metadata:\n",
      "    major_brand     : isom\n",
      "    minor_version   : 512\n",
      "    compatible_brands: isomiso2avc1mp41\n",
      "    encoder         : Lavf60.16.100\n",
      "  Stream #0:0(eng): Video: h264 (High) (avc1 / 0x31637661), yuv420p(tv, bt709, progressive), 640x480 [SAR 1:1 DAR 4:3], q=2-31, 613 kb/s, 29.74 fps, 29.74 tbr, 29737 tbn (default)\n",
      "    Metadata:\n",
      "      handler_name    : VideoHandler\n",
      "      vendor_id       : [0][0][0][0]\n",
      "      encoder         : Lavc60.31.102 libx264\n",
      "  Stream #0:1: Audio: mp3 (mp4a / 0x6134706D), 48000 Hz, stereo, fltp\n",
      "    Metadata:\n",
      "      encoder         : Lavc60.31.102 libmp3lame\n",
      "[out#0/mp4 @ 0x55e5a4a38680] video:2249kB audio:470kB subtitle:0kB other streams:0kB global headers:0kB muxing overhead: 0.984699%\n",
      "size=    2746kB time=00:00:30.04 bitrate= 748.6kbits/s speed=43.5x    \n"
     ]
    }
   ],
   "source": [
    "import ffmpeg\n",
    "import sys\n",
    "\n",
    "try:\n",
    "    input_video = ffmpeg.input(\n",
    "        \"/home/emanuele/Dottorato/DigitalHuman/downloader/output/The 30-Second Video.mp4\"\n",
    "    )\n",
    "    input_audio = ffmpeg.input(\n",
    "        \"/home/emanuele/Dottorato/DigitalHuman/downloader/output/The 30-Second Video.mp3\"\n",
    "    )\n",
    "\n",
    "    output = ffmpeg.output(\n",
    "        input_video.video,\n",
    "        input_audio.audio,\n",
    "        f\"output/{info_dict['title']}.mp4\",\n",
    "        vcodec=\"copy\",\n",
    "        acodec=\"libmp3lame\",\n",
    "    )\n",
    "    output.run()\n",
    "except ffmpeg.Error as e:\n",
    "    print(e)"
   ]
  },
  {
   "cell_type": "code",
   "execution_count": null,
   "metadata": {},
   "outputs": [],
   "source": []
  },
  {
   "cell_type": "code",
   "execution_count": null,
   "metadata": {},
   "outputs": [],
   "source": []
  },
  {
   "cell_type": "markdown",
   "metadata": {},
   "source": [
    "# pytube\n"
   ]
  },
  {
   "cell_type": "code",
   "execution_count": 4,
   "metadata": {},
   "outputs": [
    {
     "data": {
      "text/plain": [
       "'Tg Noi Lis | 27/04/2022'"
      ]
     },
     "execution_count": 4,
     "metadata": {},
     "output_type": "execute_result"
    }
   ],
   "source": [
    "from pytube import YouTube\n",
    "\n",
    "yt = YouTube(video_url)\n",
    "yt.title"
   ]
  },
  {
   "cell_type": "code",
   "execution_count": 5,
   "metadata": {},
   "outputs": [
    {
     "data": {
      "text/plain": [
       "[<Stream: itag=\"18\" mime_type=\"video/mp4\" res=\"360p\" fps=\"25fps\" vcodec=\"avc1.42001E\" acodec=\"mp4a.40.2\" progressive=\"True\" type=\"video\">, <Stream: itag=\"22\" mime_type=\"video/mp4\" res=\"720p\" fps=\"25fps\" vcodec=\"avc1.64001F\" acodec=\"mp4a.40.2\" progressive=\"True\" type=\"video\">]"
      ]
     },
     "execution_count": 5,
     "metadata": {},
     "output_type": "execute_result"
    }
   ],
   "source": [
    "yt.streams.filter(progressive=True)"
   ]
  },
  {
   "cell_type": "code",
   "execution_count": 10,
   "metadata": {},
   "outputs": [
    {
     "name": "stderr",
     "output_type": "stream",
     "text": [
      "/tmp/ipykernel_118707/1720786537.py:1: DeprecationWarning: Call to deprecated function all (This object can be treated as a list, all() is useless).\n",
      "  yt.streams.filter(adaptive=True, file_extension='mp4').all()\n"
     ]
    },
    {
     "data": {
      "text/plain": [
       "[<Stream: itag=\"136\" mime_type=\"video/mp4\" res=\"720p\" fps=\"25fps\" vcodec=\"avc1.64001f\" progressive=\"False\" type=\"video\">,\n",
       " <Stream: itag=\"134\" mime_type=\"video/mp4\" res=\"360p\" fps=\"25fps\" vcodec=\"avc1.4d401e\" progressive=\"False\" type=\"video\">,\n",
       " <Stream: itag=\"160\" mime_type=\"video/mp4\" res=\"144p\" fps=\"25fps\" vcodec=\"avc1.4d400c\" progressive=\"False\" type=\"video\">,\n",
       " <Stream: itag=\"139\" mime_type=\"audio/mp4\" abr=\"48kbps\" acodec=\"mp4a.40.5\" progressive=\"False\" type=\"audio\">,\n",
       " <Stream: itag=\"140\" mime_type=\"audio/mp4\" abr=\"128kbps\" acodec=\"mp4a.40.2\" progressive=\"False\" type=\"audio\">]"
      ]
     },
     "execution_count": 10,
     "metadata": {},
     "output_type": "execute_result"
    }
   ],
   "source": [
    "yt.streams.filter(adaptive=True, file_extension=\"mp4\").all()"
   ]
  },
  {
   "cell_type": "code",
   "execution_count": 16,
   "metadata": {},
   "outputs": [],
   "source": [
    "audio = yt.streams.filter(adaptive=True, file_extension=\"mp4\", only_audio=True).first()\n",
    "video = yt.streams.filter(adaptive=True, file_extension=\"mp4\", only_video=True).first()"
   ]
  },
  {
   "cell_type": "code",
   "execution_count": 18,
   "metadata": {},
   "outputs": [],
   "source": [
    "video_filename = video.download(filename=\"video\")\n",
    "audio_filename = audio.download(filename=\"audio\")"
   ]
  },
  {
   "cell_type": "markdown",
   "metadata": {},
   "source": [
    "Non funziona un cazzo!\n"
   ]
  },
  {
   "cell_type": "code",
   "execution_count": 19,
   "metadata": {},
   "outputs": [
    {
     "name": "stderr",
     "output_type": "stream",
     "text": [
      "ffmpeg version 6.1-5 Copyright (c) 2000-2023 the FFmpeg developers\n",
      "  built with gcc 13 (Debian 13.2.0-7)\n",
      "  configuration: --prefix=/usr --extra-version=5 --toolchain=hardened --libdir=/usr/lib/x86_64-linux-gnu --incdir=/usr/include/x86_64-linux-gnu --arch=amd64 --enable-gpl --disable-stripping --enable-gnutls --enable-ladspa --enable-libaom --enable-libass --enable-libbluray --enable-libbs2b --enable-libcaca --enable-libcdio --enable-libcodec2 --enable-libdav1d --enable-libflite --enable-libfontconfig --enable-libfreetype --enable-libharfbuzz --enable-libfribidi --enable-libglslang --enable-libgme --enable-libgsm --enable-libjack --enable-libmp3lame --enable-libmysofa --enable-libopenjpeg --enable-libopenmpt --enable-libopus --enable-libpulse --enable-librabbitmq --enable-librist --enable-librubberband --enable-libshine --enable-libsnappy --enable-libsoxr --enable-libspeex --enable-libsrt --enable-libssh --enable-libtheora --enable-libtwolame --enable-libvidstab --enable-libvorbis --enable-libvpx --enable-libwebp --enable-libx265 --enable-libxml2 --enable-libxvid --enable-libzimg --enable-libzmq --enable-libzvbi --enable-lv2 --enable-omx --enable-openal --enable-opencl --enable-opengl --enable-sdl2 --disable-sndio --enable-libjxl --enable-pocketsphinx --enable-librsvg --enable-libvpl --disable-libmfx --enable-libdc1394 --enable-libdrm --enable-libiec61883 --enable-chromaprint --enable-frei0r --enable-libsvtav1 --enable-libx264 --enable-libplacebo --enable-librav1e --enable-shared\n",
      "  libavutil      58. 29.100 / 58. 29.100\n",
      "  libavcodec     60. 31.102 / 60. 31.102\n",
      "  libavformat    60. 16.100 / 60. 16.100\n",
      "  libavdevice    60.  3.100 / 60.  3.100\n",
      "  libavfilter     9. 12.100 /  9. 12.100\n",
      "  libswscale      7.  5.100 /  7.  5.100\n",
      "  libswresample   4. 12.100 /  4. 12.100\n",
      "  libpostproc    57.  3.100 / 57.  3.100\n",
      "Input #0, mov,mp4,m4a,3gp,3g2,mj2, from '/home/emanuele/Dottorato/DigitalHuman/downloader/downloader/notebooks/video':\n",
      "  Metadata:\n",
      "    major_brand     : dash\n",
      "    minor_version   : 0\n",
      "    compatible_brands: iso6avc1mp41\n",
      "    creation_time   : 2023-02-25T06:36:13.000000Z\n",
      "  Duration: 00:12:22.44, start: 0.000000, bitrate: 1235 kb/s\n",
      "  Stream #0:0[0x1](und): Video: h264 (High) (avc1 / 0x31637661), yuv420p(tv, bt709, progressive), 1280x720 [SAR 1:1 DAR 16:9], 2 kb/s, 25 fps, 25 tbr, 12800 tbn (default)\n",
      "    Metadata:\n",
      "      creation_time   : 2023-02-25T06:36:13.000000Z\n",
      "      handler_name    : ISO Media file produced by Google Inc.\n",
      "      vendor_id       : [0][0][0][0]\n",
      "Input #1, mov,mp4,m4a,3gp,3g2,mj2, from '/home/emanuele/Dottorato/DigitalHuman/downloader/downloader/notebooks/audio':\n",
      "  Metadata:\n",
      "    major_brand     : dash\n",
      "    minor_version   : 0\n",
      "    compatible_brands: iso6mp41\n",
      "    creation_time   : 2023-02-25T06:23:17.000000Z\n",
      "  Duration: 00:12:22.57, start: 0.000000, bitrate: 48 kb/s\n",
      "  Stream #1:0[0x1](eng): Audio: aac (HE-AAC) (mp4a / 0x6134706D), 44100 Hz, stereo, fltp, 0 kb/s (default)\n",
      "    Metadata:\n",
      "      creation_time   : 2023-02-25T06:23:17.000000Z\n",
      "      handler_name    : ISO Media file produced by Google Inc.\n",
      "      vendor_id       : [0][0][0][0]\n",
      "Stream mapping:\n",
      "  Stream #0:0 (h264) -> concat\n",
      "  Stream #1:0 (aac) -> concat\n",
      "  concat -> Stream #0:0 (aac)\n",
      "  concat -> Stream #0:1 (libx264)\n",
      "Press [q] to stop, [?] for help\n",
      "[libx264 @ 0x55df21546180] using SAR=1/1\n",
      "[libx264 @ 0x55df21546180] using cpu capabilities: MMX2 SSE2Fast SSSE3 SSE4.2 AVX FMA3 BMI2 AVX2 AVX512\n",
      "[libx264 @ 0x55df21546180] profile High, level 3.1, 4:2:0, 8-bit\n",
      "[libx264 @ 0x55df21546180] 264 - core 164 r3095 baee400 - H.264/MPEG-4 AVC codec - Copyleft 2003-2022 - http://www.videolan.org/x264.html - options: cabac=1 ref=3 deblock=1:0:0 analyse=0x3:0x113 me=hex subme=7 psy=1 psy_rd=1.00:0.00 mixed_ref=1 me_range=16 chroma_me=1 trellis=1 8x8dct=1 cqm=0 deadzone=21,11 fast_pskip=1 chroma_qp_offset=-2 threads=12 lookahead_threads=2 sliced_threads=0 nr=0 decimate=1 interlaced=0 bluray_compat=0 constrained_intra=0 bframes=3 b_pyramid=2 b_adapt=1 b_bias=0 direct=1 weightb=1 open_gop=0 weightp=2 keyint=250 keyint_min=25 scenecut=40 intra_refresh=0 rc_lookahead=40 rc=crf mbtree=1 crf=23.0 qcomp=0.60 qpmin=0 qpmax=69 qpstep=4 ip_ratio=1.40 aq=1:1.00\n",
      "Output #0, mp4, to 'output.mp4':\n",
      "  Metadata:\n",
      "    major_brand     : dash\n",
      "    minor_version   : 0\n",
      "    compatible_brands: iso6avc1mp41\n",
      "    encoder         : Lavf60.16.100\n",
      "  Stream #0:0: Audio: aac (LC) (mp4a / 0x6134706D), 44100 Hz, stereo, fltp, 128 kb/s\n",
      "    Metadata:\n",
      "      encoder         : Lavc60.31.102 aac\n",
      "  Stream #0:1: Video: h264 (avc1 / 0x31637661), yuv420p(tv, bt709, progressive), 1280x720 [SAR 1:1 DAR 16:9], q=2-31, 25 fps, 12800 tbn\n",
      "    Metadata:\n",
      "      encoder         : Lavc60.31.102 libx264\n",
      "    Side data:\n",
      "      cpb: bitrate max/min/avg: 0/0/0 buffer size: 0 vbv_delay: N/A\n",
      "[out#0/mp4 @ 0x55df214b9140] video:90950kB audio:11728kB subtitle:0kB other streams:0kB global headers:0kB muxing overhead: 0.592587%\n",
      "frame=18561 fps= 93 q=-1.0 Lsize=  103286kB time=00:12:22.55 bitrate=1139.5kbits/s speed=3.73x    \n",
      "[aac @ 0x55df214ba5c0] Qavg: 628.310\n",
      "[libx264 @ 0x55df21546180] frame I:76    Avg QP:16.06  size: 75960\n",
      "[libx264 @ 0x55df21546180] frame P:4747  Avg QP:19.69  size: 11810\n",
      "[libx264 @ 0x55df21546180] frame B:13738 Avg QP:25.44  size:  2278\n",
      "[libx264 @ 0x55df21546180] consecutive B-frames:  0.7%  1.1%  2.3% 95.9%\n",
      "[libx264 @ 0x55df21546180] mb I  I16..4: 25.0% 45.7% 29.3%\n",
      "[libx264 @ 0x55df21546180] mb P  I16..4:  3.7%  5.7%  1.3%  P16..4: 21.8%  7.7%  4.8%  0.0%  0.0%    skip:55.1%\n",
      "[libx264 @ 0x55df21546180] mb B  I16..4:  0.2%  0.4%  0.1%  B16..8: 19.4%  2.2%  0.5%  direct: 0.8%  skip:76.3%  L0:44.9% L1:49.8% BI: 5.3%\n",
      "[libx264 @ 0x55df21546180] 8x8 transform intra:53.4% inter:65.8%\n",
      "[libx264 @ 0x55df21546180] coded y,uvDC,uvAC intra: 39.2% 59.4% 22.5% inter: 4.5% 5.8% 0.4%\n",
      "[libx264 @ 0x55df21546180] i16 v,h,dc,p: 31% 39% 11% 19%\n",
      "[libx264 @ 0x55df21546180] i8 v,h,dc,ddl,ddr,vr,hd,vl,hu: 24% 23% 27%  3%  4%  5%  5%  4%  5%\n",
      "[libx264 @ 0x55df21546180] i4 v,h,dc,ddl,ddr,vr,hd,vl,hu: 30% 23% 15%  4%  6%  6%  6%  5%  4%\n",
      "[libx264 @ 0x55df21546180] i8c dc,h,v,p: 41% 29% 21%  9%\n",
      "[libx264 @ 0x55df21546180] Weighted P-Frames: Y:0.0% UV:0.0%\n",
      "[libx264 @ 0x55df21546180] ref P L0: 68.2% 11.1% 15.1%  5.6%\n",
      "[libx264 @ 0x55df21546180] ref B L0: 88.1% 10.1%  1.9%\n",
      "[libx264 @ 0x55df21546180] ref B L1: 94.4%  5.6%\n",
      "[libx264 @ 0x55df21546180] kb/s:1003.52\n"
     ]
    },
    {
     "data": {
      "text/plain": [
       "(None, None)"
      ]
     },
     "execution_count": 19,
     "metadata": {},
     "output_type": "execute_result"
    }
   ],
   "source": [
    "# Unisci gli stream con ffmpeg\n",
    "output_filename = \"output.mp4\"\n",
    "ffmpeg.concat(\n",
    "    ffmpeg.input(video_filename), ffmpeg.input(audio_filename), v=1, a=1\n",
    ").output(output_filename).run()"
   ]
  },
  {
   "cell_type": "code",
   "execution_count": null,
   "metadata": {},
   "outputs": [],
   "source": []
  },
  {
   "cell_type": "code",
   "execution_count": null,
   "metadata": {},
   "outputs": [],
   "source": []
  },
  {
   "cell_type": "code",
   "execution_count": null,
   "metadata": {},
   "outputs": [],
   "source": []
  },
  {
   "cell_type": "code",
   "execution_count": null,
   "metadata": {},
   "outputs": [],
   "source": []
  }
 ],
 "metadata": {
  "kernelspec": {
   "display_name": "venv",
   "language": "python",
   "name": "python3"
  },
  "language_info": {
   "codemirror_mode": {
    "name": "ipython",
    "version": 3
   },
   "file_extension": ".py",
   "mimetype": "text/x-python",
   "name": "python",
   "nbconvert_exporter": "python",
   "pygments_lexer": "ipython3",
   "version": "3.11.7"
  }
 },
 "nbformat": 4,
 "nbformat_minor": 2
}
