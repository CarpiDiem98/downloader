{
 "cells": [
  {
   "cell_type": "code",
   "execution_count": 1,
   "metadata": {},
   "outputs": [],
   "source": [
    "from pytube import Playlist\n",
    "import json"
   ]
  },
  {
   "cell_type": "code",
   "execution_count": 2,
   "metadata": {},
   "outputs": [],
   "source": [
    "playlist = Playlist('https://www.youtube.com/watch?v=6U3350i1shw&list=PLqgByAmrQLo8DYIaENgclNDUQoDo0WHMI')"
   ]
  },
  {
   "cell_type": "code",
   "execution_count": 3,
   "metadata": {},
   "outputs": [
    {
     "name": "stdout",
     "output_type": "stream",
     "text": [
      "https://www.youtube.com/watch?v=6U3350i1shw\n",
      "https://www.youtube.com/watch?v=SqNYOH9jXpQ\n",
      "https://www.youtube.com/watch?v=XeuGjYGszvA\n",
      "https://www.youtube.com/watch?v=u2UeJx3y5JE\n",
      "https://www.youtube.com/watch?v=LQCrKpYcNDI\n",
      "https://www.youtube.com/watch?v=eosbVjqleb0\n",
      "https://www.youtube.com/watch?v=MM0fkkVMoRc\n",
      "https://www.youtube.com/watch?v=YX4unRIw3SM\n",
      "https://www.youtube.com/watch?v=ALk2RX9gz9c\n",
      "https://www.youtube.com/watch?v=OotKIeecM4s\n",
      "https://www.youtube.com/watch?v=QLS1LC6fFL8\n"
     ]
    },
    {
     "ename": "TypeError",
     "evalue": "Object of type builtin_function_or_method is not JSON serializable",
     "output_type": "error",
     "traceback": [
      "\u001b[0;31m---------------------------------------------------------------------------\u001b[0m",
      "\u001b[0;31mTypeError\u001b[0m                                 Traceback (most recent call last)",
      "Cell \u001b[0;32mIn[3], line 14\u001b[0m\n\u001b[1;32m     11\u001b[0m     \u001b[38;5;66;03m# video = url.streams.first().download()\u001b[39;00m\n\u001b[1;32m     13\u001b[0m \u001b[38;5;28;01mwith\u001b[39;00m \u001b[38;5;28mopen\u001b[39m(\u001b[38;5;124m\"\u001b[39m\u001b[38;5;124mannotations.json\u001b[39m\u001b[38;5;124m\"\u001b[39m, \u001b[38;5;124m\"\u001b[39m\u001b[38;5;124mw\u001b[39m\u001b[38;5;124m\"\u001b[39m) \u001b[38;5;28;01mas\u001b[39;00m outfile:\n\u001b[0;32m---> 14\u001b[0m     \u001b[43mjson\u001b[49m\u001b[38;5;241;43m.\u001b[39;49m\u001b[43mdump\u001b[49m\u001b[43m(\u001b[49m\u001b[43mannotations\u001b[49m\u001b[43m,\u001b[49m\u001b[43m \u001b[49m\u001b[43moutfile\u001b[49m\u001b[43m)\u001b[49m\n",
      "File \u001b[0;32m/usr/lib/python3.11/json/__init__.py:179\u001b[0m, in \u001b[0;36mdump\u001b[0;34m(obj, fp, skipkeys, ensure_ascii, check_circular, allow_nan, cls, indent, separators, default, sort_keys, **kw)\u001b[0m\n\u001b[1;32m    173\u001b[0m     iterable \u001b[38;5;241m=\u001b[39m \u001b[38;5;28mcls\u001b[39m(skipkeys\u001b[38;5;241m=\u001b[39mskipkeys, ensure_ascii\u001b[38;5;241m=\u001b[39mensure_ascii,\n\u001b[1;32m    174\u001b[0m         check_circular\u001b[38;5;241m=\u001b[39mcheck_circular, allow_nan\u001b[38;5;241m=\u001b[39mallow_nan, indent\u001b[38;5;241m=\u001b[39mindent,\n\u001b[1;32m    175\u001b[0m         separators\u001b[38;5;241m=\u001b[39mseparators,\n\u001b[1;32m    176\u001b[0m         default\u001b[38;5;241m=\u001b[39mdefault, sort_keys\u001b[38;5;241m=\u001b[39msort_keys, \u001b[38;5;241m*\u001b[39m\u001b[38;5;241m*\u001b[39mkw)\u001b[38;5;241m.\u001b[39miterencode(obj)\n\u001b[1;32m    177\u001b[0m \u001b[38;5;66;03m# could accelerate with writelines in some versions of Python, at\u001b[39;00m\n\u001b[1;32m    178\u001b[0m \u001b[38;5;66;03m# a debuggability cost\u001b[39;00m\n\u001b[0;32m--> 179\u001b[0m \u001b[43m\u001b[49m\u001b[38;5;28;43;01mfor\u001b[39;49;00m\u001b[43m \u001b[49m\u001b[43mchunk\u001b[49m\u001b[43m \u001b[49m\u001b[38;5;129;43;01min\u001b[39;49;00m\u001b[43m \u001b[49m\u001b[43miterable\u001b[49m\u001b[43m:\u001b[49m\n\u001b[1;32m    180\u001b[0m \u001b[43m    \u001b[49m\u001b[43mfp\u001b[49m\u001b[38;5;241;43m.\u001b[39;49m\u001b[43mwrite\u001b[49m\u001b[43m(\u001b[49m\u001b[43mchunk\u001b[49m\u001b[43m)\u001b[49m\n",
      "File \u001b[0;32m/usr/lib/python3.11/json/encoder.py:430\u001b[0m, in \u001b[0;36m_make_iterencode.<locals>._iterencode\u001b[0;34m(o, _current_indent_level)\u001b[0m\n\u001b[1;32m    428\u001b[0m     \u001b[38;5;28;01myield\u001b[39;00m _floatstr(o)\n\u001b[1;32m    429\u001b[0m \u001b[38;5;28;01melif\u001b[39;00m \u001b[38;5;28misinstance\u001b[39m(o, (\u001b[38;5;28mlist\u001b[39m, \u001b[38;5;28mtuple\u001b[39m)):\n\u001b[0;32m--> 430\u001b[0m     \u001b[38;5;28;01myield from\u001b[39;00m _iterencode_list(o, _current_indent_level)\n\u001b[1;32m    431\u001b[0m \u001b[38;5;28;01melif\u001b[39;00m \u001b[38;5;28misinstance\u001b[39m(o, \u001b[38;5;28mdict\u001b[39m):\n\u001b[1;32m    432\u001b[0m     \u001b[38;5;28;01myield from\u001b[39;00m _iterencode_dict(o, _current_indent_level)\n",
      "File \u001b[0;32m/usr/lib/python3.11/json/encoder.py:326\u001b[0m, in \u001b[0;36m_make_iterencode.<locals>._iterencode_list\u001b[0;34m(lst, _current_indent_level)\u001b[0m\n\u001b[1;32m    324\u001b[0m         \u001b[38;5;28;01melse\u001b[39;00m:\n\u001b[1;32m    325\u001b[0m             chunks \u001b[38;5;241m=\u001b[39m _iterencode(value, _current_indent_level)\n\u001b[0;32m--> 326\u001b[0m         \u001b[38;5;28;01myield from\u001b[39;00m chunks\n\u001b[1;32m    327\u001b[0m \u001b[38;5;28;01mif\u001b[39;00m newline_indent \u001b[38;5;129;01mis\u001b[39;00m \u001b[38;5;129;01mnot\u001b[39;00m \u001b[38;5;28;01mNone\u001b[39;00m:\n\u001b[1;32m    328\u001b[0m     _current_indent_level \u001b[38;5;241m-\u001b[39m\u001b[38;5;241m=\u001b[39m \u001b[38;5;241m1\u001b[39m\n",
      "File \u001b[0;32m/usr/lib/python3.11/json/encoder.py:406\u001b[0m, in \u001b[0;36m_make_iterencode.<locals>._iterencode_dict\u001b[0;34m(dct, _current_indent_level)\u001b[0m\n\u001b[1;32m    404\u001b[0m         \u001b[38;5;28;01melse\u001b[39;00m:\n\u001b[1;32m    405\u001b[0m             chunks \u001b[38;5;241m=\u001b[39m _iterencode(value, _current_indent_level)\n\u001b[0;32m--> 406\u001b[0m         \u001b[38;5;28;01myield from\u001b[39;00m chunks\n\u001b[1;32m    407\u001b[0m \u001b[38;5;28;01mif\u001b[39;00m newline_indent \u001b[38;5;129;01mis\u001b[39;00m \u001b[38;5;129;01mnot\u001b[39;00m \u001b[38;5;28;01mNone\u001b[39;00m:\n\u001b[1;32m    408\u001b[0m     _current_indent_level \u001b[38;5;241m-\u001b[39m\u001b[38;5;241m=\u001b[39m \u001b[38;5;241m1\u001b[39m\n",
      "File \u001b[0;32m/usr/lib/python3.11/json/encoder.py:439\u001b[0m, in \u001b[0;36m_make_iterencode.<locals>._iterencode\u001b[0;34m(o, _current_indent_level)\u001b[0m\n\u001b[1;32m    437\u001b[0m         \u001b[38;5;28;01mraise\u001b[39;00m \u001b[38;5;167;01mValueError\u001b[39;00m(\u001b[38;5;124m\"\u001b[39m\u001b[38;5;124mCircular reference detected\u001b[39m\u001b[38;5;124m\"\u001b[39m)\n\u001b[1;32m    438\u001b[0m     markers[markerid] \u001b[38;5;241m=\u001b[39m o\n\u001b[0;32m--> 439\u001b[0m o \u001b[38;5;241m=\u001b[39m \u001b[43m_default\u001b[49m\u001b[43m(\u001b[49m\u001b[43mo\u001b[49m\u001b[43m)\u001b[49m\n\u001b[1;32m    440\u001b[0m \u001b[38;5;28;01myield from\u001b[39;00m _iterencode(o, _current_indent_level)\n\u001b[1;32m    441\u001b[0m \u001b[38;5;28;01mif\u001b[39;00m markers \u001b[38;5;129;01mis\u001b[39;00m \u001b[38;5;129;01mnot\u001b[39;00m \u001b[38;5;28;01mNone\u001b[39;00m:\n",
      "File \u001b[0;32m/usr/lib/python3.11/json/encoder.py:180\u001b[0m, in \u001b[0;36mJSONEncoder.default\u001b[0;34m(self, o)\u001b[0m\n\u001b[1;32m    161\u001b[0m \u001b[38;5;28;01mdef\u001b[39;00m \u001b[38;5;21mdefault\u001b[39m(\u001b[38;5;28mself\u001b[39m, o):\n\u001b[1;32m    162\u001b[0m \u001b[38;5;250m    \u001b[39m\u001b[38;5;124;03m\"\"\"Implement this method in a subclass such that it returns\u001b[39;00m\n\u001b[1;32m    163\u001b[0m \u001b[38;5;124;03m    a serializable object for ``o``, or calls the base implementation\u001b[39;00m\n\u001b[1;32m    164\u001b[0m \u001b[38;5;124;03m    (to raise a ``TypeError``).\u001b[39;00m\n\u001b[0;32m   (...)\u001b[0m\n\u001b[1;32m    178\u001b[0m \n\u001b[1;32m    179\u001b[0m \u001b[38;5;124;03m    \"\"\"\u001b[39;00m\n\u001b[0;32m--> 180\u001b[0m     \u001b[38;5;28;01mraise\u001b[39;00m \u001b[38;5;167;01mTypeError\u001b[39;00m(\u001b[38;5;124mf\u001b[39m\u001b[38;5;124m'\u001b[39m\u001b[38;5;124mObject of type \u001b[39m\u001b[38;5;132;01m{\u001b[39;00mo\u001b[38;5;241m.\u001b[39m\u001b[38;5;18m__class__\u001b[39m\u001b[38;5;241m.\u001b[39m\u001b[38;5;18m__name__\u001b[39m\u001b[38;5;132;01m}\u001b[39;00m\u001b[38;5;124m \u001b[39m\u001b[38;5;124m'\u001b[39m\n\u001b[1;32m    181\u001b[0m                     \u001b[38;5;124mf\u001b[39m\u001b[38;5;124m'\u001b[39m\u001b[38;5;124mis not JSON serializable\u001b[39m\u001b[38;5;124m'\u001b[39m)\n",
      "\u001b[0;31mTypeError\u001b[0m: Object of type builtin_function_or_method is not JSON serializable"
     ]
    }
   ],
   "source": [
    "annotations = []\n",
    "for i, url in enumerate(playlist):\n",
    "    print(url)\n",
    "    annotations.append(\n",
    "        {\n",
    "            \"id\": i,\n",
    "            \"title\": url.title,\n",
    "            \"url\": url,\n",
    "        }\n",
    "    )\n",
    "    # video = url.streams.first().download()\n",
    "    \n",
    "with open(\"annotations.json\", \"w\") as outfile:\n",
    "    json.dump(annotations, outfile)"
   ]
  },
  {
   "cell_type": "code",
   "execution_count": 6,
   "metadata": {},
   "outputs": [],
   "source": [
    "import os\n",
    "from moviepy.video.io.VideoFileClip import VideoFileClip\n",
    "from moviepy.video.fx.all import crop\n",
    "\n",
    "\n",
    "def crop_left_side(input_file, output_file):\n",
    "    video_clip = VideoFileClip(input_file)\n",
    "    width, height = video_clip.size\n",
    "    left_width = width // 2 - 120\n",
    "    cropped_clip = crop(video_clip, x1=0, y1=0, x2=left_width, y2=height)\n",
    "    cropped_clip.write_videofile(output_file, codec=\"libx264\", audio_codec=\"aac\")\n",
    "    video_clip.close()"
   ]
  },
  {
   "cell_type": "code",
   "execution_count": 8,
   "metadata": {},
   "outputs": [
    {
     "name": "stderr",
     "output_type": "stream",
     "text": [
      "t:   1%|          | 241/27492 [01:04<07:20, 61.91it/s, now=None]"
     ]
    },
    {
     "name": "stderr",
     "output_type": "stream",
     "text": [
      "t:   1%|          | 241/27492 [01:04<07:20, 61.91it/s, now=None]"
     ]
    },
    {
     "name": "stdout",
     "output_type": "stream",
     "text": [
      "['Tg_Noi_Lis_20_05_2022.mp4', 'Tg_Noi_Lis_06_05_2022.mp4', 'Tg_Noi_Lis_07_04_2023.mp4', 'Tg_Noi_Lis_28_04_2023.mp4', 'Tg_Noi_Lis_17_05_2022.mp4', 'Tg_Noi_Lis_07_10_2022.mp4', 'Tg_Noi_Lis_07_03_2023.mp4', 'Tg_Noi_Lis_28_09_2022.mp4', 'Tg_Noi_Lis_11_07_2022.mp4', 'Tg_Noi_Lis_06_10_2022.mp4', 'Tg_Noi_Lis_16_08_2022.mp4', 'Tg_Noi_Lis_10_05_2022.mp4', 'Tg_Noi_Lis_28_03_2023.mp4', 'Tg_Noi_Lis_06_04_2023.mp4', 'Tg_Noi_Lis_06_12_2022.mp4', 'Tg_Noi_Lis_24_10_2022.mp4', 'Tg_Noi_Lis_13_05_2022.mp4', 'Tg_Noi_Lis_26_10_2022.mp4', 'Tg_Noi_Lis_29_05_2023.mp4', 'Tg_Noi_Lis_12_01_2023.mp4', 'Tg_Noi_Lis_27_042023.mp4', 'Tg_Noi_Lis_29_04_2022.mp4', 'Tg_Noi_Lis_29_12_2022.mp4', 'Tg_Noi_LIS_30_10_2023.mp4', 'Tg_Noi_Lis_28_02_2023.mp4', 'Tg_Noi_Lis_23_11_2022.mp4', 'Tg_Noi_Lis_07_07_2022.mp4', 'Tg_Noi_Lis_07_11_2023.mp4', 'Tg_Noi_Lis_03_05_2023.mp4', 'Tg_Noi_Lis_10_06_2022.mp4', 'Tg_Noi_Lis_19_12_2022.mp4', 'Tg_Noi_Lis_25_08_2022.mp4', 'Tg_Noi_Lis_29_08_2022.mp4', 'Tg_Noi_Lis_20_04_2022.mp4', 'Tg_Noi_Lis_16_11_2022.mp4', 'Tg_Noi_Lis_18_01_2023.mp4', 'Tg_Noi_Lis_04_05_2023.mp4', 'Tg_Noi_Lis_18_10_2022.mp4', 'Tg_Noi_Lis_14_11_2023.mp4', 'Tg_Noi_Lis_11_08_2022.mp4', 'Tg_Noi_Lis_21_04_2023.mp4', 'Tg_Noi_Lis_03_10_2022.mp4', 'Tg_Noi_Lis_20_04_2023.mp4', 'Tg_Noi_Lis_04_01_2023.mp4', 'Tg_Noi_Lis_27_02_2023.mp4', 'Tg_Noi_Lis_26_04_2022.mp4', 'Tg_Noi_LIS_06_12_2023.mp4', 'Tg_Noi_LIS_24_11_2023.mp4', 'Tg_Noi_Lis_14_07_2022.mp4', 'Tg_Noi_Lis_13_06_2023.mp4', 'Tg_Noi_Lis_20_01_2023.mp4', 'Tg_Noi_Lis_13_07_2023.mp4', 'Tg_Noi_Lis_09_05_2023.mp4', 'Tg_Noi_Lis_25_10_2022.mp4', 'Tg_Noi_Lis_22_11_2022.mp4', 'Tg_Noi_Lis_27_10_2022.mp4', 'Tg_Noi_Lis_04_05_2022.mp4', 'Tg_Noi_Lis_12_07_2022.mp4', 'Tg_Noi_Lis_01_06_2022.mp4', 'Tg_Noi_Lis_02_08_2022.mp4', 'Tg_Noi_Lis_07_02_2023.mp4', 'Tg_Noi_Lis_08_04_2022.mp4', 'Tg_Noi_LIS_27_09_2023.mp4', 'Tg_Noi_Lis_11_01_2023.mp4', 'Tg_noi_Lis_04_08_2022.mp4', 'Tg_Noi_Lis_23_05_2022.mp4', 'Tg_Noi_Lis_19_09_2022.mp4', 'Tg_Noi_Lis_06_10_2023.mp4', 'Tg_Noi_Lis_27_04_2022.mp4', 'Tg_Noi_Lis_02_03_2023.mp4', 'Tg_Noi_Lis_05_01_2023.mp4', 'Tg_Noi_Lis_12_10_2023.mp4', 'Tg_Noi_Lis_14_04_2022.mp4', 'Tg_Noi_Lis_04_10_2022.mp4', 'Tg_Noi_Lis_26_05_2023.mp4', 'Tg_Noi_Lis_23_08_2022.mp4', 'Tg_Noi_LIS_08_06_2022.mp4', 'Tg_Noi_Lis_22_09_2023.mp4', 'Tg_Noi_Lis_11_10_2023.mp4', 'Tg_Noi_Lis_28_07_2023.mp4', 'Tg_Noi_Lis_12_05_2023.mp4', 'Tg_Noi_Lis_20_09_2022.mp4', 'Tg_Noi_LIS_06_11_2023.mp4', 'Tg_Noi_Lis_18_11_2022.mp4', 'Tg_Noi_Lis_15_07_2022.mp4', 'Tg_Noi_Lis_23_09_2022.mp4', 'Tg_Noi_Lis_10_02_2023.mp4', 'Tg_Noi_LIS_22_11_2023.mp4', 'Tg_Noi_Lis_01_12_2022.mp4', 'Tg_Noi_Lis_08_11_2023.mp4', 'Tg_Noi_Lis_21_11_2022.mp4', 'Tg_Noi_Lis_19_07_2023.mp4', 'Tg_Noi_Lis_05_09_2022.mp4', 'Tg_Noi_Lis_17_06_2022.mp4', 'Tg_Noi_Lis_10_10_2022.mp4', 'Tg_Noi_Lis_18_05_2023.mp4', 'Tg_Noi_Lis_15_04_2022.mp4', 'Tg_noi_Lis_12_05_2022.mp4', 'Tg_Noi_Lis_17_08_2022.mp4', 'Tg_Noi_Lis_26_08_2022.mp4', 'Tg_Noi_Lis_05_10_2022.mp4', 'Tg_Noi_Lis_19_05_2023.mp4', 'Tg_Noi_Lis_16_12_2022.mp4', 'Tg_Noi_Lis_06_06_2023.mp4', 'Tg_Noi_Lis_09_12_2022.mp4', 'Tg_Noi_Lis_15_11_2022.mp4', 'Tg_Noi_Lis_10_11_2022.mp4', 'Tg_Noi_Lis_23_03_2023.mp4', 'Tg_Noi_Lis_08_11_2022.mp4', 'Tg_Noi_Lis_12_04_2022.mp4', 'Tg_Noi_Lis_19_05_2022.mp4', 'Tg_Noi_Lis_25_01_2023.mp4', 'Tg_Noi_Lis_16_09_2022.mp4', 'Tg_Noi_Lis_16_05_2022.mp4', 'Tg_Noi_Lis_19_09_2023.mp4', 'Tg_Noi_Lis_02_02_2023.mp4', 'Tg_Noi_Lis_10_08_2022.mp4', 'Tg_Noi_Lis_12_04_2023.mp4', 'Tg_Noi_Lis_24_06_2022.mp4', 'Tg_Noi_Lis_21_09_2023.mp4', 'Tg_Noi_Lis_21_12_2022.mp4', 'Tg_Noi_Lis_21_03_2023.mp4', 'Tg_Noi_Lis_30_01_2023.mp4', 'Tg_Noi_Lis_30_03_2023.mp4', 'Tg_Noi_Lis_20_10_2023.mp4', 'Tg_Noi_Lis_04_11_2022.mp4', 'Tg_Noi_Lis_03_10_2023.mp4', 'Tg_Noi_Lis_19_10_2022.mp4', 'Tg_Noi_Lis_28_06_2022.mp4', 'Tg_Noi_Lis_14_04_2023.mp4', 'Tg_noi_Lis_26_05_2022.mp4', 'Tg_Noi_Lis_03_01_2023.mp4', 'Tg_Noi_Lis_04_10_2023.mp4', 'Tg_Noi_Lis_10_11_2023.mp4', 'Tg_Noi_Lis_13_10_2023.mp4', 'Tg_Noi_Lis_03_05_2022.mp4', 'Tg_Noi_Lis_27_11_2023.mp4', 'Tg_Noi_Lis_13_07_2022.mp4', 'Tg_Noi_Lis_17_11_2023.mp4', 'Tg_Noi_Lis_02_12_2022.mp4', 'Tg_Noi_Lis_11_04_2023.mp4', 'Tg_Noi_Lis_24_08_2022.mp4', 'Tg_Noi_Lis_17_01_2023.mp4', 'Tg_Noi_Lis_05_07_2022.mp4', 'Tg_Noi_Lis_17_02_2023.mp4', 'Tg_Noi_Lis_09_11_2022.mp4', 'Tg_Noi_Lis_14_07_2023.mp4', 'Tg_Noi_Lis_25_07_2022.mp4', 'Tg_Noi_Lis_05_05_2022.mp4', 'Tg_Noi_Lis_20_02_2023.mp4', 'Tg_Noi_Lis_09_05_2022.mp4', 'Tg_Noi_Lis_16_06_2022.mp4', 'Tg_Noi_Lis_12_10_2022.mp4', 'Tg_Noi_Lis_02_01_2023.mp4', 'Tg_Noi_Lis_03_11_2022.mp4', 'Tg_Noi_Lis_19_04_2022.mp4', 'Tg_Noi_Lis_23_01_2023.mp4', 'Tg_Noi_Lis_29_07_2022.mp4', 'Tg_Noi_Lis_16_01_2023.mp4', 'Tg_Noi_Lis_04_04_2023.mp4', 'Tg_Noi_Lis_02_05_2022.mp4', 'Tg_Noi_Lis_16_05_2023.mp4', 'Tg_Noi_Lis_06_06_2022.mp4', 'Tg_Noi_Lis_11_10_2022.mp4', 'Tg_Noi_Lis_13_10_2022.mp4', 'Tg_Noi_Lis_27_06_2022.mp4', 'Tg_Noi_Lis_13_09_2022.mp4', 'Tg_Noi_Lis_30_08_2022.mp4', 'Tg_Noi_Lis_10_03_2023.mp4', 'Tg_Noi_Lis_08_06_2023.mp4', 'Tg_Noi_Lis_27_07_2023.mp4', 'Tg_Noi_Lis_05_04_2023.mp4', 'Tg_Noi_Lis_03_03_2023.mp4', 'Tg_Noi_Lis_05_05_2023.mp4', 'Tg_Noi_Lis_09_08_2022.mp4', 'Tg_Noi_Lis_30_11_2022.mp4', 'Tg_Noi_Lis_02_05_2023.mp4', 'Tg_Noi_Lis_10_01_2023.mp4', 'Tg_Noi_Lis_19_07_2022.mp4', 'Tg_Noi_Lis_07_12_2022.mp4', 'Tg_Noi_Lis_18_04_2023.mp4', 'Tg_Noi_Lis_09_06_2022.mp4', 'Tg_Noi_Lis_26_01_2023.mp4', 'Tg_Noi_Lis_31_08_2022.mp4', 'Tg_Noi_Lis_21_02_2023.mp4', 'Tg_Noi_Lis_28_12_2022.mp4', 'Tg_Noi_LIS_23_10_2023.mp4', 'Tg_Noi_Lis_24_05_2022.mp4', 'Tg_Noi_Lis_03_08_2022.mp4', 'Tg_Noi_Lis_15_02_2023.mp4', 'Tg_Noi_Lis_17_10_2023.mp4', 'Tg_Noi_Lis_20_09_2023.mp4']\n",
      "Moviepy - Building video /home/emanuele/downloader/output/cropped_video/Tg_Noi_Lis_20_05_2022_cropped.mp4.\n",
      "Moviepy - Writing video /home/emanuele/downloader/output/cropped_video/Tg_Noi_Lis_20_05_2022_cropped.mp4\n",
      "\n"
     ]
    },
    {
     "name": "stderr",
     "output_type": "stream",
     "text": []
    },
    {
     "ename": "KeyboardInterrupt",
     "evalue": "",
     "output_type": "error",
     "traceback": [
      "\u001b[0;31m---------------------------------------------------------------------------\u001b[0m",
      "\u001b[0;31mKeyboardInterrupt\u001b[0m                         Traceback (most recent call last)",
      "Cell \u001b[0;32mIn[8], line 4\u001b[0m\n\u001b[1;32m      2\u001b[0m \u001b[38;5;28mprint\u001b[39m(videos)\n\u001b[1;32m      3\u001b[0m \u001b[38;5;28;01mfor\u001b[39;00m video \u001b[38;5;129;01min\u001b[39;00m videos:\n\u001b[0;32m----> 4\u001b[0m     \u001b[43mcrop_left_side\u001b[49m\u001b[43m(\u001b[49m\n\u001b[1;32m      5\u001b[0m \u001b[43m        \u001b[49m\u001b[43mos\u001b[49m\u001b[38;5;241;43m.\u001b[39;49m\u001b[43mpath\u001b[49m\u001b[38;5;241;43m.\u001b[39;49m\u001b[43mjoin\u001b[49m\u001b[43m(\u001b[49m\u001b[38;5;124;43m\"\u001b[39;49m\u001b[38;5;124;43m/home/emanuele/downloader/output\u001b[39;49m\u001b[38;5;124;43m\"\u001b[39;49m\u001b[43m,\u001b[49m\u001b[43m \u001b[49m\u001b[38;5;124;43m\"\u001b[39;49m\u001b[38;5;124;43mvideo/\u001b[39;49m\u001b[38;5;124;43m\"\u001b[39;49m\u001b[43m,\u001b[49m\u001b[43m \u001b[49m\u001b[43mvideo\u001b[49m\u001b[43m)\u001b[49m\u001b[43m,\u001b[49m\n\u001b[1;32m      6\u001b[0m \u001b[43m        \u001b[49m\u001b[43mos\u001b[49m\u001b[38;5;241;43m.\u001b[39;49m\u001b[43mpath\u001b[49m\u001b[38;5;241;43m.\u001b[39;49m\u001b[43mjoin\u001b[49m\u001b[43m(\u001b[49m\n\u001b[1;32m      7\u001b[0m \u001b[43m            \u001b[49m\u001b[38;5;124;43m\"\u001b[39;49m\u001b[38;5;124;43m/home/emanuele/downloader/output/cropped_video/\u001b[39;49m\u001b[38;5;124;43m\"\u001b[39;49m\u001b[43m,\u001b[49m\n\u001b[1;32m      8\u001b[0m \u001b[43m            \u001b[49m\u001b[43mvideo\u001b[49m\u001b[38;5;241;43m.\u001b[39;49m\u001b[43mreplace\u001b[49m\u001b[43m(\u001b[49m\u001b[38;5;124;43m\"\u001b[39;49m\u001b[38;5;124;43m.mp4\u001b[39;49m\u001b[38;5;124;43m\"\u001b[39;49m\u001b[43m,\u001b[49m\u001b[43m \u001b[49m\u001b[38;5;124;43m\"\u001b[39;49m\u001b[38;5;124;43m_cropped.mp4\u001b[39;49m\u001b[38;5;124;43m\"\u001b[39;49m\u001b[43m)\u001b[49m\u001b[43m,\u001b[49m\n\u001b[1;32m      9\u001b[0m \u001b[43m        \u001b[49m\u001b[43m)\u001b[49m\u001b[43m,\u001b[49m\n\u001b[1;32m     10\u001b[0m \u001b[43m    \u001b[49m\u001b[43m)\u001b[49m\n",
      "Cell \u001b[0;32mIn[6], line 11\u001b[0m, in \u001b[0;36mcrop_left_side\u001b[0;34m(input_file, output_file)\u001b[0m\n\u001b[1;32m      9\u001b[0m left_width \u001b[38;5;241m=\u001b[39m width \u001b[38;5;241m/\u001b[39m\u001b[38;5;241m/\u001b[39m \u001b[38;5;241m2\u001b[39m \u001b[38;5;241m-\u001b[39m \u001b[38;5;241m120\u001b[39m\n\u001b[1;32m     10\u001b[0m cropped_clip \u001b[38;5;241m=\u001b[39m crop(video_clip, x1\u001b[38;5;241m=\u001b[39m\u001b[38;5;241m0\u001b[39m, y1\u001b[38;5;241m=\u001b[39m\u001b[38;5;241m0\u001b[39m, x2\u001b[38;5;241m=\u001b[39mleft_width, y2\u001b[38;5;241m=\u001b[39mheight)\n\u001b[0;32m---> 11\u001b[0m \u001b[43mcropped_clip\u001b[49m\u001b[38;5;241;43m.\u001b[39;49m\u001b[43mwrite_videofile\u001b[49m\u001b[43m(\u001b[49m\u001b[43moutput_file\u001b[49m\u001b[43m,\u001b[49m\u001b[43m \u001b[49m\u001b[43mcodec\u001b[49m\u001b[38;5;241;43m=\u001b[39;49m\u001b[38;5;124;43m\"\u001b[39;49m\u001b[38;5;124;43mlibx264\u001b[39;49m\u001b[38;5;124;43m\"\u001b[39;49m\u001b[43m,\u001b[49m\u001b[43m \u001b[49m\u001b[43maudio_codec\u001b[49m\u001b[38;5;241;43m=\u001b[39;49m\u001b[38;5;124;43m\"\u001b[39;49m\u001b[38;5;124;43maac\u001b[39;49m\u001b[38;5;124;43m\"\u001b[39;49m\u001b[43m)\u001b[49m\n\u001b[1;32m     12\u001b[0m video_clip\u001b[38;5;241m.\u001b[39mclose()\n",
      "File \u001b[0;32m<decorator-gen-73>:2\u001b[0m, in \u001b[0;36mwrite_videofile\u001b[0;34m(self, filename, fps, codec, bitrate, audio, audio_fps, preset, audio_nbytes, audio_codec, audio_bitrate, audio_bufsize, temp_audiofile, rewrite_audio, remove_temp, write_logfile, verbose, threads, ffmpeg_params, logger)\u001b[0m\n",
      "File \u001b[0;32m~/downloader/venv/lib/python3.10/site-packages/moviepy/decorators.py:54\u001b[0m, in \u001b[0;36mrequires_duration\u001b[0;34m(f, clip, *a, **k)\u001b[0m\n\u001b[1;32m     52\u001b[0m     \u001b[38;5;28;01mraise\u001b[39;00m \u001b[38;5;167;01mValueError\u001b[39;00m(\u001b[38;5;124m\"\u001b[39m\u001b[38;5;124mAttribute \u001b[39m\u001b[38;5;124m'\u001b[39m\u001b[38;5;124mduration\u001b[39m\u001b[38;5;124m'\u001b[39m\u001b[38;5;124m not set\u001b[39m\u001b[38;5;124m\"\u001b[39m)\n\u001b[1;32m     53\u001b[0m \u001b[38;5;28;01melse\u001b[39;00m:\n\u001b[0;32m---> 54\u001b[0m     \u001b[38;5;28;01mreturn\u001b[39;00m \u001b[43mf\u001b[49m\u001b[43m(\u001b[49m\u001b[43mclip\u001b[49m\u001b[43m,\u001b[49m\u001b[43m \u001b[49m\u001b[38;5;241;43m*\u001b[39;49m\u001b[43ma\u001b[49m\u001b[43m,\u001b[49m\u001b[43m \u001b[49m\u001b[38;5;241;43m*\u001b[39;49m\u001b[38;5;241;43m*\u001b[39;49m\u001b[43mk\u001b[49m\u001b[43m)\u001b[49m\n",
      "File \u001b[0;32m<decorator-gen-72>:2\u001b[0m, in \u001b[0;36mwrite_videofile\u001b[0;34m(self, filename, fps, codec, bitrate, audio, audio_fps, preset, audio_nbytes, audio_codec, audio_bitrate, audio_bufsize, temp_audiofile, rewrite_audio, remove_temp, write_logfile, verbose, threads, ffmpeg_params, logger)\u001b[0m\n",
      "File \u001b[0;32m~/downloader/venv/lib/python3.10/site-packages/moviepy/decorators.py:135\u001b[0m, in \u001b[0;36muse_clip_fps_by_default\u001b[0;34m(f, clip, *a, **k)\u001b[0m\n\u001b[1;32m    130\u001b[0m new_a \u001b[38;5;241m=\u001b[39m [fun(arg) \u001b[38;5;28;01mif\u001b[39;00m (name\u001b[38;5;241m==\u001b[39m\u001b[38;5;124m'\u001b[39m\u001b[38;5;124mfps\u001b[39m\u001b[38;5;124m'\u001b[39m) \u001b[38;5;28;01melse\u001b[39;00m arg\n\u001b[1;32m    131\u001b[0m          \u001b[38;5;28;01mfor\u001b[39;00m (arg, name) \u001b[38;5;129;01min\u001b[39;00m \u001b[38;5;28mzip\u001b[39m(a, names)]\n\u001b[1;32m    132\u001b[0m new_kw \u001b[38;5;241m=\u001b[39m {k: fun(v) \u001b[38;5;28;01mif\u001b[39;00m k\u001b[38;5;241m==\u001b[39m\u001b[38;5;124m'\u001b[39m\u001b[38;5;124mfps\u001b[39m\u001b[38;5;124m'\u001b[39m \u001b[38;5;28;01melse\u001b[39;00m v\n\u001b[1;32m    133\u001b[0m          \u001b[38;5;28;01mfor\u001b[39;00m (k,v) \u001b[38;5;129;01min\u001b[39;00m k\u001b[38;5;241m.\u001b[39mitems()}\n\u001b[0;32m--> 135\u001b[0m \u001b[38;5;28;01mreturn\u001b[39;00m \u001b[43mf\u001b[49m\u001b[43m(\u001b[49m\u001b[43mclip\u001b[49m\u001b[43m,\u001b[49m\u001b[43m \u001b[49m\u001b[38;5;241;43m*\u001b[39;49m\u001b[43mnew_a\u001b[49m\u001b[43m,\u001b[49m\u001b[43m \u001b[49m\u001b[38;5;241;43m*\u001b[39;49m\u001b[38;5;241;43m*\u001b[39;49m\u001b[43mnew_kw\u001b[49m\u001b[43m)\u001b[49m\n",
      "File \u001b[0;32m<decorator-gen-71>:2\u001b[0m, in \u001b[0;36mwrite_videofile\u001b[0;34m(self, filename, fps, codec, bitrate, audio, audio_fps, preset, audio_nbytes, audio_codec, audio_bitrate, audio_bufsize, temp_audiofile, rewrite_audio, remove_temp, write_logfile, verbose, threads, ffmpeg_params, logger)\u001b[0m\n",
      "File \u001b[0;32m~/downloader/venv/lib/python3.10/site-packages/moviepy/decorators.py:22\u001b[0m, in \u001b[0;36mconvert_masks_to_RGB\u001b[0;34m(f, clip, *a, **k)\u001b[0m\n\u001b[1;32m     20\u001b[0m \u001b[38;5;28;01mif\u001b[39;00m clip\u001b[38;5;241m.\u001b[39mismask:\n\u001b[1;32m     21\u001b[0m     clip \u001b[38;5;241m=\u001b[39m clip\u001b[38;5;241m.\u001b[39mto_RGB()\n\u001b[0;32m---> 22\u001b[0m \u001b[38;5;28;01mreturn\u001b[39;00m \u001b[43mf\u001b[49m\u001b[43m(\u001b[49m\u001b[43mclip\u001b[49m\u001b[43m,\u001b[49m\u001b[43m \u001b[49m\u001b[38;5;241;43m*\u001b[39;49m\u001b[43ma\u001b[49m\u001b[43m,\u001b[49m\u001b[43m \u001b[49m\u001b[38;5;241;43m*\u001b[39;49m\u001b[38;5;241;43m*\u001b[39;49m\u001b[43mk\u001b[49m\u001b[43m)\u001b[49m\n",
      "File \u001b[0;32m~/downloader/venv/lib/python3.10/site-packages/moviepy/video/VideoClip.py:300\u001b[0m, in \u001b[0;36mVideoClip.write_videofile\u001b[0;34m(self, filename, fps, codec, bitrate, audio, audio_fps, preset, audio_nbytes, audio_codec, audio_bitrate, audio_bufsize, temp_audiofile, rewrite_audio, remove_temp, write_logfile, verbose, threads, ffmpeg_params, logger)\u001b[0m\n\u001b[1;32m    292\u001b[0m \u001b[38;5;28;01mif\u001b[39;00m make_audio:\n\u001b[1;32m    293\u001b[0m     \u001b[38;5;28mself\u001b[39m\u001b[38;5;241m.\u001b[39maudio\u001b[38;5;241m.\u001b[39mwrite_audiofile(audiofile, audio_fps,\n\u001b[1;32m    294\u001b[0m                                audio_nbytes, audio_bufsize,\n\u001b[1;32m    295\u001b[0m                                audio_codec, bitrate\u001b[38;5;241m=\u001b[39maudio_bitrate,\n\u001b[1;32m    296\u001b[0m                                write_logfile\u001b[38;5;241m=\u001b[39mwrite_logfile,\n\u001b[1;32m    297\u001b[0m                                verbose\u001b[38;5;241m=\u001b[39mverbose,\n\u001b[1;32m    298\u001b[0m                                logger\u001b[38;5;241m=\u001b[39mlogger)\n\u001b[0;32m--> 300\u001b[0m \u001b[43mffmpeg_write_video\u001b[49m\u001b[43m(\u001b[49m\u001b[38;5;28;43mself\u001b[39;49m\u001b[43m,\u001b[49m\u001b[43m \u001b[49m\u001b[43mfilename\u001b[49m\u001b[43m,\u001b[49m\u001b[43m \u001b[49m\u001b[43mfps\u001b[49m\u001b[43m,\u001b[49m\u001b[43m \u001b[49m\u001b[43mcodec\u001b[49m\u001b[43m,\u001b[49m\n\u001b[1;32m    301\u001b[0m \u001b[43m                   \u001b[49m\u001b[43mbitrate\u001b[49m\u001b[38;5;241;43m=\u001b[39;49m\u001b[43mbitrate\u001b[49m\u001b[43m,\u001b[49m\n\u001b[1;32m    302\u001b[0m \u001b[43m                   \u001b[49m\u001b[43mpreset\u001b[49m\u001b[38;5;241;43m=\u001b[39;49m\u001b[43mpreset\u001b[49m\u001b[43m,\u001b[49m\n\u001b[1;32m    303\u001b[0m \u001b[43m                   \u001b[49m\u001b[43mwrite_logfile\u001b[49m\u001b[38;5;241;43m=\u001b[39;49m\u001b[43mwrite_logfile\u001b[49m\u001b[43m,\u001b[49m\n\u001b[1;32m    304\u001b[0m \u001b[43m                   \u001b[49m\u001b[43maudiofile\u001b[49m\u001b[38;5;241;43m=\u001b[39;49m\u001b[43maudiofile\u001b[49m\u001b[43m,\u001b[49m\n\u001b[1;32m    305\u001b[0m \u001b[43m                   \u001b[49m\u001b[43mverbose\u001b[49m\u001b[38;5;241;43m=\u001b[39;49m\u001b[43mverbose\u001b[49m\u001b[43m,\u001b[49m\u001b[43m \u001b[49m\u001b[43mthreads\u001b[49m\u001b[38;5;241;43m=\u001b[39;49m\u001b[43mthreads\u001b[49m\u001b[43m,\u001b[49m\n\u001b[1;32m    306\u001b[0m \u001b[43m                   \u001b[49m\u001b[43mffmpeg_params\u001b[49m\u001b[38;5;241;43m=\u001b[39;49m\u001b[43mffmpeg_params\u001b[49m\u001b[43m,\u001b[49m\n\u001b[1;32m    307\u001b[0m \u001b[43m                   \u001b[49m\u001b[43mlogger\u001b[49m\u001b[38;5;241;43m=\u001b[39;49m\u001b[43mlogger\u001b[49m\u001b[43m)\u001b[49m\n\u001b[1;32m    309\u001b[0m \u001b[38;5;28;01mif\u001b[39;00m remove_temp \u001b[38;5;129;01mand\u001b[39;00m make_audio:\n\u001b[1;32m    310\u001b[0m     \u001b[38;5;28;01mif\u001b[39;00m os\u001b[38;5;241m.\u001b[39mpath\u001b[38;5;241m.\u001b[39mexists(audiofile):\n",
      "File \u001b[0;32m~/downloader/venv/lib/python3.10/site-packages/moviepy/video/io/ffmpeg_writer.py:228\u001b[0m, in \u001b[0;36mffmpeg_write_video\u001b[0;34m(clip, filename, fps, codec, bitrate, preset, withmask, write_logfile, audiofile, verbose, threads, ffmpeg_params, logger)\u001b[0m\n\u001b[1;32m    225\u001b[0m                 mask \u001b[38;5;241m=\u001b[39m mask\u001b[38;5;241m.\u001b[39mastype(\u001b[38;5;124m\"\u001b[39m\u001b[38;5;124muint8\u001b[39m\u001b[38;5;124m\"\u001b[39m)\n\u001b[1;32m    226\u001b[0m             frame \u001b[38;5;241m=\u001b[39m np\u001b[38;5;241m.\u001b[39mdstack([frame,mask])\n\u001b[0;32m--> 228\u001b[0m         \u001b[43mwriter\u001b[49m\u001b[38;5;241;43m.\u001b[39;49m\u001b[43mwrite_frame\u001b[49m\u001b[43m(\u001b[49m\u001b[43mframe\u001b[49m\u001b[43m)\u001b[49m\n\u001b[1;32m    230\u001b[0m \u001b[38;5;28;01mif\u001b[39;00m write_logfile:\n\u001b[1;32m    231\u001b[0m     logfile\u001b[38;5;241m.\u001b[39mclose()\n",
      "File \u001b[0;32m~/downloader/venv/lib/python3.10/site-packages/moviepy/video/io/ffmpeg_writer.py:136\u001b[0m, in \u001b[0;36mFFMPEG_VideoWriter.write_frame\u001b[0;34m(self, img_array)\u001b[0m\n\u001b[1;32m    134\u001b[0m \u001b[38;5;28;01mtry\u001b[39;00m:\n\u001b[1;32m    135\u001b[0m     \u001b[38;5;28;01mif\u001b[39;00m PY3:\n\u001b[0;32m--> 136\u001b[0m        \u001b[38;5;28mself\u001b[39m\u001b[38;5;241m.\u001b[39mproc\u001b[38;5;241m.\u001b[39mstdin\u001b[38;5;241m.\u001b[39mwrite(\u001b[43mimg_array\u001b[49m\u001b[38;5;241;43m.\u001b[39;49m\u001b[43mtobytes\u001b[49m\u001b[43m(\u001b[49m\u001b[43m)\u001b[49m)\n\u001b[1;32m    137\u001b[0m     \u001b[38;5;28;01melse\u001b[39;00m:\n\u001b[1;32m    138\u001b[0m        \u001b[38;5;28mself\u001b[39m\u001b[38;5;241m.\u001b[39mproc\u001b[38;5;241m.\u001b[39mstdin\u001b[38;5;241m.\u001b[39mwrite(img_array\u001b[38;5;241m.\u001b[39mtostring())\n",
      "\u001b[0;31mKeyboardInterrupt\u001b[0m: "
     ]
    }
   ],
   "source": [
    "videos = os.listdir(os.path.join(\"/home/emanuele/downloader/output\", \"video/\"))\n",
    "print(videos)\n",
    "for video in videos:\n",
    "    crop_left_side(\n",
    "        os.path.join(\"/home/emanuele/downloader/output\", \"video/\", video),\n",
    "        os.path.join(\n",
    "            \"/home/emanuele/downloader/output/cropped_video/\",\n",
    "            video.replace(\".mp4\", \"_cropped.mp4\"),\n",
    "        ),\n",
    "    )"
   ]
  },
  {
   "cell_type": "code",
   "execution_count": null,
   "metadata": {},
   "outputs": [],
   "source": []
  }
 ],
 "metadata": {
  "kernelspec": {
   "display_name": "venv",
   "language": "python",
   "name": "python3"
  },
  "language_info": {
   "codemirror_mode": {
    "name": "ipython",
    "version": 3
   },
   "file_extension": ".py",
   "mimetype": "text/x-python",
   "name": "python",
   "nbconvert_exporter": "python",
   "pygments_lexer": "ipython3",
   "version": "3.10.12"
  }
 },
 "nbformat": 4,
 "nbformat_minor": 2
}
